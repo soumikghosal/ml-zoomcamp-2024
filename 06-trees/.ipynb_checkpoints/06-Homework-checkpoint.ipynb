{
 "cells": [
  {
   "cell_type": "code",
   "execution_count": 1,
   "id": "4766e4d7",
   "metadata": {},
   "outputs": [],
   "source": [
    "import pandas as pd"
   ]
  },
  {
   "cell_type": "code",
   "execution_count": 7,
   "id": "119ac154",
   "metadata": {},
   "outputs": [
    {
     "data": {
      "text/html": [
       "<div>\n",
       "<style scoped>\n",
       "    .dataframe tbody tr th:only-of-type {\n",
       "        vertical-align: middle;\n",
       "    }\n",
       "\n",
       "    .dataframe tbody tr th {\n",
       "        vertical-align: top;\n",
       "    }\n",
       "\n",
       "    .dataframe thead th {\n",
       "        text-align: right;\n",
       "    }\n",
       "</style>\n",
       "<table border=\"1\" class=\"dataframe\">\n",
       "  <thead>\n",
       "    <tr style=\"text-align: right;\">\n",
       "      <th></th>\n",
       "      <th>JAMB_Score</th>\n",
       "      <th>Study_Hours_Per_Week</th>\n",
       "      <th>Attendance_Rate</th>\n",
       "      <th>Teacher_Quality</th>\n",
       "      <th>Distance_To_School</th>\n",
       "      <th>School_Type</th>\n",
       "      <th>School_Location</th>\n",
       "      <th>Extra_Tutorials</th>\n",
       "      <th>Access_To_Learning_Materials</th>\n",
       "      <th>Parent_Involvement</th>\n",
       "      <th>IT_Knowledge</th>\n",
       "      <th>Student_ID</th>\n",
       "      <th>Age</th>\n",
       "      <th>Gender</th>\n",
       "      <th>Socioeconomic_Status</th>\n",
       "      <th>Parent_Education_Level</th>\n",
       "      <th>Assignments_Completed</th>\n",
       "    </tr>\n",
       "  </thead>\n",
       "  <tbody>\n",
       "    <tr>\n",
       "      <th>0</th>\n",
       "      <td>192</td>\n",
       "      <td>22</td>\n",
       "      <td>78</td>\n",
       "      <td>4</td>\n",
       "      <td>12.4</td>\n",
       "      <td>Public</td>\n",
       "      <td>Urban</td>\n",
       "      <td>Yes</td>\n",
       "      <td>Yes</td>\n",
       "      <td>High</td>\n",
       "      <td>Medium</td>\n",
       "      <td>1</td>\n",
       "      <td>17</td>\n",
       "      <td>Male</td>\n",
       "      <td>Low</td>\n",
       "      <td>Tertiary</td>\n",
       "      <td>2</td>\n",
       "    </tr>\n",
       "    <tr>\n",
       "      <th>1</th>\n",
       "      <td>207</td>\n",
       "      <td>14</td>\n",
       "      <td>88</td>\n",
       "      <td>4</td>\n",
       "      <td>2.7</td>\n",
       "      <td>Public</td>\n",
       "      <td>Rural</td>\n",
       "      <td>No</td>\n",
       "      <td>Yes</td>\n",
       "      <td>High</td>\n",
       "      <td>High</td>\n",
       "      <td>2</td>\n",
       "      <td>15</td>\n",
       "      <td>Male</td>\n",
       "      <td>High</td>\n",
       "      <td>NaN</td>\n",
       "      <td>1</td>\n",
       "    </tr>\n",
       "    <tr>\n",
       "      <th>2</th>\n",
       "      <td>182</td>\n",
       "      <td>29</td>\n",
       "      <td>87</td>\n",
       "      <td>2</td>\n",
       "      <td>9.6</td>\n",
       "      <td>Public</td>\n",
       "      <td>Rural</td>\n",
       "      <td>Yes</td>\n",
       "      <td>Yes</td>\n",
       "      <td>High</td>\n",
       "      <td>Medium</td>\n",
       "      <td>3</td>\n",
       "      <td>20</td>\n",
       "      <td>Female</td>\n",
       "      <td>High</td>\n",
       "      <td>Tertiary</td>\n",
       "      <td>2</td>\n",
       "    </tr>\n",
       "    <tr>\n",
       "      <th>3</th>\n",
       "      <td>210</td>\n",
       "      <td>29</td>\n",
       "      <td>99</td>\n",
       "      <td>2</td>\n",
       "      <td>2.6</td>\n",
       "      <td>Public</td>\n",
       "      <td>Urban</td>\n",
       "      <td>No</td>\n",
       "      <td>Yes</td>\n",
       "      <td>Medium</td>\n",
       "      <td>High</td>\n",
       "      <td>4</td>\n",
       "      <td>22</td>\n",
       "      <td>Female</td>\n",
       "      <td>Medium</td>\n",
       "      <td>Tertiary</td>\n",
       "      <td>1</td>\n",
       "    </tr>\n",
       "    <tr>\n",
       "      <th>4</th>\n",
       "      <td>199</td>\n",
       "      <td>12</td>\n",
       "      <td>98</td>\n",
       "      <td>3</td>\n",
       "      <td>8.8</td>\n",
       "      <td>Public</td>\n",
       "      <td>Urban</td>\n",
       "      <td>No</td>\n",
       "      <td>Yes</td>\n",
       "      <td>Medium</td>\n",
       "      <td>Medium</td>\n",
       "      <td>5</td>\n",
       "      <td>22</td>\n",
       "      <td>Female</td>\n",
       "      <td>Medium</td>\n",
       "      <td>Tertiary</td>\n",
       "      <td>1</td>\n",
       "    </tr>\n",
       "  </tbody>\n",
       "</table>\n",
       "</div>"
      ],
      "text/plain": [
       "   JAMB_Score  Study_Hours_Per_Week  Attendance_Rate  Teacher_Quality  \\\n",
       "0         192                    22               78                4   \n",
       "1         207                    14               88                4   \n",
       "2         182                    29               87                2   \n",
       "3         210                    29               99                2   \n",
       "4         199                    12               98                3   \n",
       "\n",
       "   Distance_To_School School_Type School_Location Extra_Tutorials  \\\n",
       "0                12.4      Public           Urban             Yes   \n",
       "1                 2.7      Public           Rural              No   \n",
       "2                 9.6      Public           Rural             Yes   \n",
       "3                 2.6      Public           Urban              No   \n",
       "4                 8.8      Public           Urban              No   \n",
       "\n",
       "  Access_To_Learning_Materials Parent_Involvement IT_Knowledge  Student_ID  \\\n",
       "0                          Yes               High       Medium           1   \n",
       "1                          Yes               High         High           2   \n",
       "2                          Yes               High       Medium           3   \n",
       "3                          Yes             Medium         High           4   \n",
       "4                          Yes             Medium       Medium           5   \n",
       "\n",
       "   Age  Gender Socioeconomic_Status Parent_Education_Level  \\\n",
       "0   17    Male                  Low               Tertiary   \n",
       "1   15    Male                 High                    NaN   \n",
       "2   20  Female                 High               Tertiary   \n",
       "3   22  Female               Medium               Tertiary   \n",
       "4   22  Female               Medium               Tertiary   \n",
       "\n",
       "   Assignments_Completed  \n",
       "0                      2  \n",
       "1                      1  \n",
       "2                      2  \n",
       "3                      1  \n",
       "4                      1  "
      ]
     },
     "execution_count": 7,
     "metadata": {},
     "output_type": "execute_result"
    }
   ],
   "source": [
    "df = pd.read_csv(\"data/jamb_exam_results.csv\")\n",
    "df.head()"
   ]
  },
  {
   "cell_type": "code",
   "execution_count": 15,
   "id": "55adc5f5",
   "metadata": {},
   "outputs": [
    {
     "data": {
      "text/plain": [
       "jamb_score                        int64\n",
       "study_hours_per_week              int64\n",
       "attendance_rate                   int64\n",
       "teacher_quality                   int64\n",
       "distance_to_school              float64\n",
       "school_type                      object\n",
       "school_location                  object\n",
       "extra_tutorials                  object\n",
       "access_to_learning_materials     object\n",
       "parent_involvement               object\n",
       "it_knowledge                     object\n",
       "age                               int64\n",
       "gender                           object\n",
       "socioeconomic_status             object\n",
       "parent_education_level           object\n",
       "assignments_completed             int64\n",
       "dtype: object"
      ]
     },
     "execution_count": 15,
     "metadata": {},
     "output_type": "execute_result"
    }
   ],
   "source": [
    "df.dtypes"
   ]
  },
  {
   "cell_type": "code",
   "execution_count": 8,
   "id": "4ef4c4ed",
   "metadata": {},
   "outputs": [],
   "source": [
    "df.columns = df.columns.str.lower().str.replace(' ', '_')"
   ]
  },
  {
   "cell_type": "markdown",
   "id": "27489593",
   "metadata": {},
   "source": [
    "### Q1:"
   ]
  },
  {
   "cell_type": "code",
   "execution_count": 9,
   "id": "c79accc7",
   "metadata": {},
   "outputs": [],
   "source": [
    "del df['student_id']\n",
    "df.fillna(0, inplace=True)"
   ]
  },
  {
   "cell_type": "code",
   "execution_count": 10,
   "id": "d548b75a",
   "metadata": {},
   "outputs": [],
   "source": [
    "from sklearn.feature_extraction import DictVectorizer\n",
    "from sklearn.model_selection import train_test_split\n",
    "import warnings\n",
    "warnings.filterwarnings(\"ignore\")\n",
    "\n",
    "df_full_train, df_test = train_test_split(df, test_size=0.2, random_state=1)\n",
    "df_train, df_val = train_test_split(df_full_train, test_size=0.2, random_state=1)\n",
    "\n",
    "\n",
    "y_train = df_train['jamb_score']\n",
    "y_val = df_val['jamb_score']\n",
    "y_test = df_test['jamb_score']\n",
    "\n",
    "del df_train['jamb_score']\n",
    "del df_val['jamb_score']\n",
    "del df_test['jamb_score']\n",
    "\n",
    "df_train = df_train.to_dict(orient=\"records\")\n",
    "df_val = df_val.to_dict(orient=\"records\")\n",
    "df_test = df_test.to_dict(orient=\"records\")\n",
    "\n",
    "dv = DictVectorizer(sparse=False)\n",
    "\n",
    "X_train = dv.fit_transform(df_train)\n",
    "X_val = dv.fit_transform(df_val)\n",
    "X_test = dv.fit_transform(df_test)"
   ]
  },
  {
   "cell_type": "code",
   "execution_count": 17,
   "id": "bba642a3",
   "metadata": {},
   "outputs": [],
   "source": [
    "from sklearn.tree import DecisionTreeRegressor"
   ]
  },
  {
   "cell_type": "code",
   "execution_count": 19,
   "id": "45bbb153",
   "metadata": {},
   "outputs": [
    {
     "data": {
      "text/html": [
       "<style>#sk-container-id-1 {color: black;background-color: white;}#sk-container-id-1 pre{padding: 0;}#sk-container-id-1 div.sk-toggleable {background-color: white;}#sk-container-id-1 label.sk-toggleable__label {cursor: pointer;display: block;width: 100%;margin-bottom: 0;padding: 0.3em;box-sizing: border-box;text-align: center;}#sk-container-id-1 label.sk-toggleable__label-arrow:before {content: \"▸\";float: left;margin-right: 0.25em;color: #696969;}#sk-container-id-1 label.sk-toggleable__label-arrow:hover:before {color: black;}#sk-container-id-1 div.sk-estimator:hover label.sk-toggleable__label-arrow:before {color: black;}#sk-container-id-1 div.sk-toggleable__content {max-height: 0;max-width: 0;overflow: hidden;text-align: left;background-color: #f0f8ff;}#sk-container-id-1 div.sk-toggleable__content pre {margin: 0.2em;color: black;border-radius: 0.25em;background-color: #f0f8ff;}#sk-container-id-1 input.sk-toggleable__control:checked~div.sk-toggleable__content {max-height: 200px;max-width: 100%;overflow: auto;}#sk-container-id-1 input.sk-toggleable__control:checked~label.sk-toggleable__label-arrow:before {content: \"▾\";}#sk-container-id-1 div.sk-estimator input.sk-toggleable__control:checked~label.sk-toggleable__label {background-color: #d4ebff;}#sk-container-id-1 div.sk-label input.sk-toggleable__control:checked~label.sk-toggleable__label {background-color: #d4ebff;}#sk-container-id-1 input.sk-hidden--visually {border: 0;clip: rect(1px 1px 1px 1px);clip: rect(1px, 1px, 1px, 1px);height: 1px;margin: -1px;overflow: hidden;padding: 0;position: absolute;width: 1px;}#sk-container-id-1 div.sk-estimator {font-family: monospace;background-color: #f0f8ff;border: 1px dotted black;border-radius: 0.25em;box-sizing: border-box;margin-bottom: 0.5em;}#sk-container-id-1 div.sk-estimator:hover {background-color: #d4ebff;}#sk-container-id-1 div.sk-parallel-item::after {content: \"\";width: 100%;border-bottom: 1px solid gray;flex-grow: 1;}#sk-container-id-1 div.sk-label:hover label.sk-toggleable__label {background-color: #d4ebff;}#sk-container-id-1 div.sk-serial::before {content: \"\";position: absolute;border-left: 1px solid gray;box-sizing: border-box;top: 0;bottom: 0;left: 50%;z-index: 0;}#sk-container-id-1 div.sk-serial {display: flex;flex-direction: column;align-items: center;background-color: white;padding-right: 0.2em;padding-left: 0.2em;position: relative;}#sk-container-id-1 div.sk-item {position: relative;z-index: 1;}#sk-container-id-1 div.sk-parallel {display: flex;align-items: stretch;justify-content: center;background-color: white;position: relative;}#sk-container-id-1 div.sk-item::before, #sk-container-id-1 div.sk-parallel-item::before {content: \"\";position: absolute;border-left: 1px solid gray;box-sizing: border-box;top: 0;bottom: 0;left: 50%;z-index: -1;}#sk-container-id-1 div.sk-parallel-item {display: flex;flex-direction: column;z-index: 1;position: relative;background-color: white;}#sk-container-id-1 div.sk-parallel-item:first-child::after {align-self: flex-end;width: 50%;}#sk-container-id-1 div.sk-parallel-item:last-child::after {align-self: flex-start;width: 50%;}#sk-container-id-1 div.sk-parallel-item:only-child::after {width: 0;}#sk-container-id-1 div.sk-dashed-wrapped {border: 1px dashed gray;margin: 0 0.4em 0.5em 0.4em;box-sizing: border-box;padding-bottom: 0.4em;background-color: white;}#sk-container-id-1 div.sk-label label {font-family: monospace;font-weight: bold;display: inline-block;line-height: 1.2em;}#sk-container-id-1 div.sk-label-container {text-align: center;}#sk-container-id-1 div.sk-container {/* jupyter's `normalize.less` sets `[hidden] { display: none; }` but bootstrap.min.css set `[hidden] { display: none !important; }` so we also need the `!important` here to be able to override the default hidden behavior on the sphinx rendered scikit-learn.org. See: https://github.com/scikit-learn/scikit-learn/issues/21755 */display: inline-block !important;position: relative;}#sk-container-id-1 div.sk-text-repr-fallback {display: none;}</style><div id=\"sk-container-id-1\" class=\"sk-top-container\"><div class=\"sk-text-repr-fallback\"><pre>DecisionTreeRegressor(max_depth=1)</pre><b>In a Jupyter environment, please rerun this cell to show the HTML representation or trust the notebook. <br />On GitHub, the HTML representation is unable to render, please try loading this page with nbviewer.org.</b></div><div class=\"sk-container\" hidden><div class=\"sk-item\"><div class=\"sk-estimator sk-toggleable\"><input class=\"sk-toggleable__control sk-hidden--visually\" id=\"sk-estimator-id-1\" type=\"checkbox\" checked><label for=\"sk-estimator-id-1\" class=\"sk-toggleable__label sk-toggleable__label-arrow\">DecisionTreeRegressor</label><div class=\"sk-toggleable__content\"><pre>DecisionTreeRegressor(max_depth=1)</pre></div></div></div></div></div>"
      ],
      "text/plain": [
       "DecisionTreeRegressor(max_depth=1)"
      ]
     },
     "execution_count": 19,
     "metadata": {},
     "output_type": "execute_result"
    }
   ],
   "source": [
    "model = DecisionTreeRegressor(max_depth=1)\n",
    "model.fit(X_train, y_train)"
   ]
  },
  {
   "cell_type": "code",
   "execution_count": 24,
   "id": "d014852b",
   "metadata": {},
   "outputs": [],
   "source": [
    "from sklearn.tree import export_text, plot_tree"
   ]
  },
  {
   "cell_type": "code",
   "execution_count": 40,
   "id": "563f271c",
   "metadata": {},
   "outputs": [
    {
     "data": {
      "text/plain": [
       "'|--- study_hours_per_week <= 18.50\\n|   |--- value: [156.06]\\n|--- study_hours_per_week >  18.50\\n|   |--- value: [188.77]\\n'"
      ]
     },
     "execution_count": 40,
     "metadata": {},
     "output_type": "execute_result"
    }
   ],
   "source": [
    "export_text(model, feature_names=dv.feature_names_)    "
   ]
  },
  {
   "cell_type": "markdown",
   "id": "affc4b9e",
   "metadata": {},
   "source": [
    "### Q2:"
   ]
  },
  {
   "cell_type": "code",
   "execution_count": 42,
   "id": "68b26048",
   "metadata": {},
   "outputs": [],
   "source": [
    "from sklearn.metrics import mean_squared_error\n",
    "from sklearn.ensemble import RandomForestRegressor\n",
    "import numpy as np\n",
    "import matplotlib.pyplot as plt"
   ]
  },
  {
   "cell_type": "code",
   "execution_count": 43,
   "id": "7123bb68",
   "metadata": {},
   "outputs": [
    {
     "data": {
      "text/html": [
       "<style>#sk-container-id-2 {color: black;background-color: white;}#sk-container-id-2 pre{padding: 0;}#sk-container-id-2 div.sk-toggleable {background-color: white;}#sk-container-id-2 label.sk-toggleable__label {cursor: pointer;display: block;width: 100%;margin-bottom: 0;padding: 0.3em;box-sizing: border-box;text-align: center;}#sk-container-id-2 label.sk-toggleable__label-arrow:before {content: \"▸\";float: left;margin-right: 0.25em;color: #696969;}#sk-container-id-2 label.sk-toggleable__label-arrow:hover:before {color: black;}#sk-container-id-2 div.sk-estimator:hover label.sk-toggleable__label-arrow:before {color: black;}#sk-container-id-2 div.sk-toggleable__content {max-height: 0;max-width: 0;overflow: hidden;text-align: left;background-color: #f0f8ff;}#sk-container-id-2 div.sk-toggleable__content pre {margin: 0.2em;color: black;border-radius: 0.25em;background-color: #f0f8ff;}#sk-container-id-2 input.sk-toggleable__control:checked~div.sk-toggleable__content {max-height: 200px;max-width: 100%;overflow: auto;}#sk-container-id-2 input.sk-toggleable__control:checked~label.sk-toggleable__label-arrow:before {content: \"▾\";}#sk-container-id-2 div.sk-estimator input.sk-toggleable__control:checked~label.sk-toggleable__label {background-color: #d4ebff;}#sk-container-id-2 div.sk-label input.sk-toggleable__control:checked~label.sk-toggleable__label {background-color: #d4ebff;}#sk-container-id-2 input.sk-hidden--visually {border: 0;clip: rect(1px 1px 1px 1px);clip: rect(1px, 1px, 1px, 1px);height: 1px;margin: -1px;overflow: hidden;padding: 0;position: absolute;width: 1px;}#sk-container-id-2 div.sk-estimator {font-family: monospace;background-color: #f0f8ff;border: 1px dotted black;border-radius: 0.25em;box-sizing: border-box;margin-bottom: 0.5em;}#sk-container-id-2 div.sk-estimator:hover {background-color: #d4ebff;}#sk-container-id-2 div.sk-parallel-item::after {content: \"\";width: 100%;border-bottom: 1px solid gray;flex-grow: 1;}#sk-container-id-2 div.sk-label:hover label.sk-toggleable__label {background-color: #d4ebff;}#sk-container-id-2 div.sk-serial::before {content: \"\";position: absolute;border-left: 1px solid gray;box-sizing: border-box;top: 0;bottom: 0;left: 50%;z-index: 0;}#sk-container-id-2 div.sk-serial {display: flex;flex-direction: column;align-items: center;background-color: white;padding-right: 0.2em;padding-left: 0.2em;position: relative;}#sk-container-id-2 div.sk-item {position: relative;z-index: 1;}#sk-container-id-2 div.sk-parallel {display: flex;align-items: stretch;justify-content: center;background-color: white;position: relative;}#sk-container-id-2 div.sk-item::before, #sk-container-id-2 div.sk-parallel-item::before {content: \"\";position: absolute;border-left: 1px solid gray;box-sizing: border-box;top: 0;bottom: 0;left: 50%;z-index: -1;}#sk-container-id-2 div.sk-parallel-item {display: flex;flex-direction: column;z-index: 1;position: relative;background-color: white;}#sk-container-id-2 div.sk-parallel-item:first-child::after {align-self: flex-end;width: 50%;}#sk-container-id-2 div.sk-parallel-item:last-child::after {align-self: flex-start;width: 50%;}#sk-container-id-2 div.sk-parallel-item:only-child::after {width: 0;}#sk-container-id-2 div.sk-dashed-wrapped {border: 1px dashed gray;margin: 0 0.4em 0.5em 0.4em;box-sizing: border-box;padding-bottom: 0.4em;background-color: white;}#sk-container-id-2 div.sk-label label {font-family: monospace;font-weight: bold;display: inline-block;line-height: 1.2em;}#sk-container-id-2 div.sk-label-container {text-align: center;}#sk-container-id-2 div.sk-container {/* jupyter's `normalize.less` sets `[hidden] { display: none; }` but bootstrap.min.css set `[hidden] { display: none !important; }` so we also need the `!important` here to be able to override the default hidden behavior on the sphinx rendered scikit-learn.org. See: https://github.com/scikit-learn/scikit-learn/issues/21755 */display: inline-block !important;position: relative;}#sk-container-id-2 div.sk-text-repr-fallback {display: none;}</style><div id=\"sk-container-id-2\" class=\"sk-top-container\"><div class=\"sk-text-repr-fallback\"><pre>RandomForestRegressor(n_estimators=10, n_jobs=-1, random_state=1)</pre><b>In a Jupyter environment, please rerun this cell to show the HTML representation or trust the notebook. <br />On GitHub, the HTML representation is unable to render, please try loading this page with nbviewer.org.</b></div><div class=\"sk-container\" hidden><div class=\"sk-item\"><div class=\"sk-estimator sk-toggleable\"><input class=\"sk-toggleable__control sk-hidden--visually\" id=\"sk-estimator-id-2\" type=\"checkbox\" checked><label for=\"sk-estimator-id-2\" class=\"sk-toggleable__label sk-toggleable__label-arrow\">RandomForestRegressor</label><div class=\"sk-toggleable__content\"><pre>RandomForestRegressor(n_estimators=10, n_jobs=-1, random_state=1)</pre></div></div></div></div></div>"
      ],
      "text/plain": [
       "RandomForestRegressor(n_estimators=10, n_jobs=-1, random_state=1)"
      ]
     },
     "execution_count": 43,
     "metadata": {},
     "output_type": "execute_result"
    }
   ],
   "source": [
    "rf = RandomForestRegressor(n_estimators=10, random_state=1, n_jobs=-1)\n",
    "rf.fit(X_train, y_train)"
   ]
  },
  {
   "cell_type": "code",
   "execution_count": 45,
   "id": "44bcf303",
   "metadata": {},
   "outputs": [
    {
     "data": {
      "text/plain": [
       "41.60899752457394"
      ]
     },
     "execution_count": 45,
     "metadata": {},
     "output_type": "execute_result"
    }
   ],
   "source": [
    "pred = rf.predict(X_val)\n",
    "rmse = np.sqrt(mean_squared_error(y_true=y_val, y_pred=pred))\n",
    "\n",
    "rmse"
   ]
  },
  {
   "cell_type": "code",
   "execution_count": 57,
   "id": "23fa573d",
   "metadata": {},
   "outputs": [],
   "source": [
    "lst = []\n",
    "\n",
    "for est in range(10, 210, 10):\n",
    "    rf = RandomForestRegressor(n_estimators=est, random_state=1, n_jobs=-1)\n",
    "    rf.fit(X_train, y_train)\n",
    "    pred = rf.predict(X_val)\n",
    "    rmse = np.sqrt(mean_squared_error(y_true=y_val, y_pred=pred))\n",
    "    lst.append((est, round(rmse,3)))"
   ]
  },
  {
   "cell_type": "code",
   "execution_count": 58,
   "id": "8c7605c7",
   "metadata": {},
   "outputs": [
    {
     "data": {
      "text/plain": [
       "[(10, 41.609),\n",
       " (20, 40.937),\n",
       " (30, 40.404),\n",
       " (40, 40.251),\n",
       " (50, 40.326),\n",
       " (60, 40.284),\n",
       " (70, 40.215),\n",
       " (80, 40.223),\n",
       " (90, 40.296),\n",
       " (100, 40.349),\n",
       " (110, 40.326),\n",
       " (120, 40.306),\n",
       " (130, 40.334),\n",
       " (140, 40.321),\n",
       " (150, 40.299),\n",
       " (160, 40.323),\n",
       " (170, 40.329),\n",
       " (180, 40.354),\n",
       " (190, 40.366),\n",
       " (200, 40.378)]"
      ]
     },
     "execution_count": 58,
     "metadata": {},
     "output_type": "execute_result"
    }
   ],
   "source": [
    "lst"
   ]
  },
  {
   "cell_type": "code",
   "execution_count": 59,
   "id": "6a582aba",
   "metadata": {},
   "outputs": [
    {
     "data": {
      "text/plain": [
       "[<matplotlib.lines.Line2D at 0x17622588e20>]"
      ]
     },
     "execution_count": 59,
     "metadata": {},
     "output_type": "execute_result"
    },
    {
     "data": {
      "image/png": "[encoded data removed]",
      "text/plain": [
       "<Figure size 640x480 with 1 Axes>"
      ]
     },
     "metadata": {},
     "output_type": "display_data"
    }
   ],
   "source": [
    "plt.plot(*zip(*lst))"
   ]
  },
  {
   "cell_type": "markdown",
   "id": "8c4164b0",
   "metadata": {},
   "source": [
    "### Q4:"
   ]
  },
  {
   "cell_type": "code",
   "execution_count": 61,
   "id": "727329c7",
   "metadata": {},
   "outputs": [],
   "source": [
    "lst = []\n",
    "\n",
    "for depth in [10, 15, 20, 25]:\n",
    "    for est in range(10, 210, 10):\n",
    "        rf = RandomForestRegressor(n_estimators=est, max_depth=depth, random_state=1, n_jobs=-1)\n",
    "        rf.fit(X_train, y_train)\n",
    "        pred = rf.predict(X_val)\n",
    "        rmse = np.sqrt(mean_squared_error(y_true=y_val, y_pred=pred))\n",
    "        lst.append((depth, est, round(rmse,3)))"
   ]
  },
  {
   "cell_type": "code",
   "execution_count": 72,
   "id": "7a454e21",
   "metadata": {},
   "outputs": [
    {
     "data": {
      "text/plain": [
       "(10, 70, 39.779)"
      ]
     },
     "execution_count": 72,
     "metadata": {},
     "output_type": "execute_result"
    }
   ],
   "source": [
    "lst[np.argmin(np.array(lst)[:, 2])]"
   ]
  },
  {
   "cell_type": "markdown",
   "id": "9ad2720a",
   "metadata": {},
   "source": [
    "### Q5:"
   ]
  },
  {
   "cell_type": "code",
   "execution_count": 74,
   "id": "58995484",
   "metadata": {},
   "outputs": [
    {
     "data": {
      "text/html": [
       "<style>#sk-container-id-3 {color: black;background-color: white;}#sk-container-id-3 pre{padding: 0;}#sk-container-id-3 div.sk-toggleable {background-color: white;}#sk-container-id-3 label.sk-toggleable__label {cursor: pointer;display: block;width: 100%;margin-bottom: 0;padding: 0.3em;box-sizing: border-box;text-align: center;}#sk-container-id-3 label.sk-toggleable__label-arrow:before {content: \"▸\";float: left;margin-right: 0.25em;color: #696969;}#sk-container-id-3 label.sk-toggleable__label-arrow:hover:before {color: black;}#sk-container-id-3 div.sk-estimator:hover label.sk-toggleable__label-arrow:before {color: black;}#sk-container-id-3 div.sk-toggleable__content {max-height: 0;max-width: 0;overflow: hidden;text-align: left;background-color: #f0f8ff;}#sk-container-id-3 div.sk-toggleable__content pre {margin: 0.2em;color: black;border-radius: 0.25em;background-color: #f0f8ff;}#sk-container-id-3 input.sk-toggleable__control:checked~div.sk-toggleable__content {max-height: 200px;max-width: 100%;overflow: auto;}#sk-container-id-3 input.sk-toggleable__control:checked~label.sk-toggleable__label-arrow:before {content: \"▾\";}#sk-container-id-3 div.sk-estimator input.sk-toggleable__control:checked~label.sk-toggleable__label {background-color: #d4ebff;}#sk-container-id-3 div.sk-label input.sk-toggleable__control:checked~label.sk-toggleable__label {background-color: #d4ebff;}#sk-container-id-3 input.sk-hidden--visually {border: 0;clip: rect(1px 1px 1px 1px);clip: rect(1px, 1px, 1px, 1px);height: 1px;margin: -1px;overflow: hidden;padding: 0;position: absolute;width: 1px;}#sk-container-id-3 div.sk-estimator {font-family: monospace;background-color: #f0f8ff;border: 1px dotted black;border-radius: 0.25em;box-sizing: border-box;margin-bottom: 0.5em;}#sk-container-id-3 div.sk-estimator:hover {background-color: #d4ebff;}#sk-container-id-3 div.sk-parallel-item::after {content: \"\";width: 100%;border-bottom: 1px solid gray;flex-grow: 1;}#sk-container-id-3 div.sk-label:hover label.sk-toggleable__label {background-color: #d4ebff;}#sk-container-id-3 div.sk-serial::before {content: \"\";position: absolute;border-left: 1px solid gray;box-sizing: border-box;top: 0;bottom: 0;left: 50%;z-index: 0;}#sk-container-id-3 div.sk-serial {display: flex;flex-direction: column;align-items: center;background-color: white;padding-right: 0.2em;padding-left: 0.2em;position: relative;}#sk-container-id-3 div.sk-item {position: relative;z-index: 1;}#sk-container-id-3 div.sk-parallel {display: flex;align-items: stretch;justify-content: center;background-color: white;position: relative;}#sk-container-id-3 div.sk-item::before, #sk-container-id-3 div.sk-parallel-item::before {content: \"\";position: absolute;border-left: 1px solid gray;box-sizing: border-box;top: 0;bottom: 0;left: 50%;z-index: -1;}#sk-container-id-3 div.sk-parallel-item {display: flex;flex-direction: column;z-index: 1;position: relative;background-color: white;}#sk-container-id-3 div.sk-parallel-item:first-child::after {align-self: flex-end;width: 50%;}#sk-container-id-3 div.sk-parallel-item:last-child::after {align-self: flex-start;width: 50%;}#sk-container-id-3 div.sk-parallel-item:only-child::after {width: 0;}#sk-container-id-3 div.sk-dashed-wrapped {border: 1px dashed gray;margin: 0 0.4em 0.5em 0.4em;box-sizing: border-box;padding-bottom: 0.4em;background-color: white;}#sk-container-id-3 div.sk-label label {font-family: monospace;font-weight: bold;display: inline-block;line-height: 1.2em;}#sk-container-id-3 div.sk-label-container {text-align: center;}#sk-container-id-3 div.sk-container {/* jupyter's `normalize.less` sets `[hidden] { display: none; }` but bootstrap.min.css set `[hidden] { display: none !important; }` so we also need the `!important` here to be able to override the default hidden behavior on the sphinx rendered scikit-learn.org. See: https://github.com/scikit-learn/scikit-learn/issues/21755 */display: inline-block !important;position: relative;}#sk-container-id-3 div.sk-text-repr-fallback {display: none;}</style><div id=\"sk-container-id-3\" class=\"sk-top-container\"><div class=\"sk-text-repr-fallback\"><pre>RandomForestRegressor(max_depth=20, n_estimators=10, n_jobs=-1, random_state=1)</pre><b>In a Jupyter environment, please rerun this cell to show the HTML representation or trust the notebook. <br />On GitHub, the HTML representation is unable to render, please try loading this page with nbviewer.org.</b></div><div class=\"sk-container\" hidden><div class=\"sk-item\"><div class=\"sk-estimator sk-toggleable\"><input class=\"sk-toggleable__control sk-hidden--visually\" id=\"sk-estimator-id-3\" type=\"checkbox\" checked><label for=\"sk-estimator-id-3\" class=\"sk-toggleable__label sk-toggleable__label-arrow\">RandomForestRegressor</label><div class=\"sk-toggleable__content\"><pre>RandomForestRegressor(max_depth=20, n_estimators=10, n_jobs=-1, random_state=1)</pre></div></div></div></div></div>"
      ],
      "text/plain": [
       "RandomForestRegressor(max_depth=20, n_estimators=10, n_jobs=-1, random_state=1)"
      ]
     },
     "execution_count": 74,
     "metadata": {},
     "output_type": "execute_result"
    }
   ],
   "source": [
    "rf = RandomForestRegressor(n_estimators=10, max_depth=20, random_state=1, n_jobs=-1)\n",
    "rf.fit(X_train, y_train)"
   ]
  },
  {
   "cell_type": "code",
   "execution_count": 81,
   "id": "df557171",
   "metadata": {},
   "outputs": [],
   "source": [
    "imp = list(zip(list(df_train[0].keys()), rf.feature_importances_))"
   ]
  },
  {
   "cell_type": "code",
   "execution_count": 89,
   "id": "b3adf90f",
   "metadata": {},
   "outputs": [
    {
     "data": {
      "text/plain": [
       "[('teacher_quality', 0.06683350285686446),\n",
       " ('distance_to_school', 0.03139093860845524),\n",
       " ('study_hours_per_week', 0.010946089136573606),\n",
       " ('attendance_rate', 0.010089609948264307)]"
      ]
     },
     "execution_count": 89,
     "metadata": {},
     "output_type": "execute_result"
    }
   ],
   "source": [
    "imp = sorted(imp, key=lambda x:x[1], reverse=True)\n",
    "[ele for ele in imp if ele[0] in ['study_hours_per_week', 'attendance_rate', 'distance_to_school', 'teacher_quality']]"
   ]
  },
  {
   "cell_type": "markdown",
   "id": "70448331",
   "metadata": {},
   "source": [
    "### Q6:"
   ]
  },
  {
   "cell_type": "code",
   "execution_count": 92,
   "id": "5d5d87ca",
   "metadata": {},
   "outputs": [],
   "source": [
    "import xgboost as xgb"
   ]
  },
  {
   "cell_type": "code",
   "execution_count": 93,
   "id": "56805546",
   "metadata": {},
   "outputs": [],
   "source": [
    "features = dv.feature_names_\n",
    "dtrain = xgb.DMatrix(X_train, y_train, feature_names=features)\n",
    "dval = xgb.DMatrix(X_val, y_val, feature_names=features)"
   ]
  },
  {
   "cell_type": "code",
   "execution_count": 95,
   "id": "53dc9c56",
   "metadata": {},
   "outputs": [],
   "source": [
    "watchlist = [(dtrain, 'train'), (dval, 'val')]"
   ]
  },
  {
   "cell_type": "code",
   "execution_count": 94,
   "id": "c711b738",
   "metadata": {},
   "outputs": [],
   "source": [
    "xgb_params = {\n",
    "    'eta': 0.3, \n",
    "    'max_depth': 6,\n",
    "    'min_child_weight': 1,\n",
    "    \n",
    "    'objective': 'reg:squarederror',\n",
    "    'nthread': 8,\n",
    "    \n",
    "    'seed': 1,\n",
    "    'verbosity': 1,\n",
    "}"
   ]
  },
  {
   "cell_type": "code",
   "execution_count": 97,
   "id": "c7f7c773",
   "metadata": {
    "scrolled": true
   },
   "outputs": [
    {
     "name": "stdout",
     "output_type": "stream",
     "text": [
      "[0]\ttrain-rmse:42.91051\tval-rmse:44.64705\n",
      "[1]\ttrain-rmse:40.11270\tval-rmse:42.58787\n",
      "[2]\ttrain-rmse:38.22082\tval-rmse:41.29400\n",
      "[3]\ttrain-rmse:36.84288\tval-rmse:40.86943\n",
      "[4]\ttrain-rmse:35.61478\tval-rmse:40.40802\n",
      "[5]\ttrain-rmse:34.75100\tval-rmse:40.18339\n",
      "[6]\ttrain-rmse:34.01920\tval-rmse:40.01861\n",
      "[7]\ttrain-rmse:33.57026\tval-rmse:39.83977\n",
      "[8]\ttrain-rmse:33.06957\tval-rmse:39.77520\n",
      "[9]\ttrain-rmse:32.53383\tval-rmse:39.67272\n",
      "[10]\ttrain-rmse:31.99488\tval-rmse:39.86428\n",
      "[11]\ttrain-rmse:31.63632\tval-rmse:39.94614\n",
      "[12]\ttrain-rmse:31.06808\tval-rmse:40.22402\n",
      "[13]\ttrain-rmse:30.66612\tval-rmse:40.21996\n",
      "[14]\ttrain-rmse:30.22377\tval-rmse:40.23733\n",
      "[15]\ttrain-rmse:29.89650\tval-rmse:40.13093\n",
      "[16]\ttrain-rmse:29.65509\tval-rmse:40.23658\n",
      "[17]\ttrain-rmse:29.39022\tval-rmse:40.26492\n",
      "[18]\ttrain-rmse:28.87405\tval-rmse:40.34034\n",
      "[19]\ttrain-rmse:28.49540\tval-rmse:40.30164\n",
      "[20]\ttrain-rmse:28.09664\tval-rmse:40.26037\n",
      "[21]\ttrain-rmse:27.63299\tval-rmse:40.23921\n",
      "[22]\ttrain-rmse:27.20857\tval-rmse:40.28724\n",
      "[23]\ttrain-rmse:26.73463\tval-rmse:40.40341\n",
      "[24]\ttrain-rmse:26.34008\tval-rmse:40.44099\n",
      "[25]\ttrain-rmse:26.07609\tval-rmse:40.48417\n",
      "[26]\ttrain-rmse:25.75803\tval-rmse:40.49100\n",
      "[27]\ttrain-rmse:25.64197\tval-rmse:40.53341\n",
      "[28]\ttrain-rmse:25.27622\tval-rmse:40.67513\n",
      "[29]\ttrain-rmse:25.10117\tval-rmse:40.68491\n",
      "[30]\ttrain-rmse:24.87680\tval-rmse:40.71177\n",
      "[31]\ttrain-rmse:24.45561\tval-rmse:40.80585\n",
      "[32]\ttrain-rmse:24.34277\tval-rmse:40.78606\n",
      "[33]\ttrain-rmse:24.21679\tval-rmse:40.83085\n",
      "[34]\ttrain-rmse:23.94835\tval-rmse:40.85974\n",
      "[35]\ttrain-rmse:23.58326\tval-rmse:40.86652\n",
      "[36]\ttrain-rmse:23.41794\tval-rmse:40.87601\n",
      "[37]\ttrain-rmse:23.33794\tval-rmse:40.87226\n",
      "[38]\ttrain-rmse:22.99529\tval-rmse:40.88371\n",
      "[39]\ttrain-rmse:22.54445\tval-rmse:40.89950\n",
      "[40]\ttrain-rmse:22.24228\tval-rmse:40.97970\n",
      "[41]\ttrain-rmse:21.96138\tval-rmse:41.08386\n",
      "[42]\ttrain-rmse:21.57329\tval-rmse:41.16527\n",
      "[43]\ttrain-rmse:21.18199\tval-rmse:41.20261\n",
      "[44]\ttrain-rmse:21.04525\tval-rmse:41.19225\n",
      "[45]\ttrain-rmse:20.98592\tval-rmse:41.19294\n",
      "[46]\ttrain-rmse:20.90848\tval-rmse:41.22153\n",
      "[47]\ttrain-rmse:20.83016\tval-rmse:41.24777\n",
      "[48]\ttrain-rmse:20.54414\tval-rmse:41.25968\n",
      "[49]\ttrain-rmse:20.48664\tval-rmse:41.30964\n",
      "[50]\ttrain-rmse:20.17649\tval-rmse:41.24907\n",
      "[51]\ttrain-rmse:19.88167\tval-rmse:41.33401\n",
      "[52]\ttrain-rmse:19.61652\tval-rmse:41.32921\n",
      "[53]\ttrain-rmse:19.57091\tval-rmse:41.34103\n",
      "[54]\ttrain-rmse:19.27349\tval-rmse:41.30722\n",
      "[55]\ttrain-rmse:19.04615\tval-rmse:41.38122\n",
      "[56]\ttrain-rmse:18.90228\tval-rmse:41.42630\n",
      "[57]\ttrain-rmse:18.80562\tval-rmse:41.44939\n",
      "[58]\ttrain-rmse:18.54922\tval-rmse:41.51076\n",
      "[59]\ttrain-rmse:18.46547\tval-rmse:41.57639\n",
      "[60]\ttrain-rmse:18.27209\tval-rmse:41.62695\n",
      "[61]\ttrain-rmse:18.09051\tval-rmse:41.71047\n",
      "[62]\ttrain-rmse:17.81222\tval-rmse:41.71648\n",
      "[63]\ttrain-rmse:17.55702\tval-rmse:41.79304\n",
      "[64]\ttrain-rmse:17.41317\tval-rmse:41.83986\n",
      "[65]\ttrain-rmse:17.29323\tval-rmse:41.82979\n",
      "[66]\ttrain-rmse:17.21622\tval-rmse:41.85101\n",
      "[67]\ttrain-rmse:16.97240\tval-rmse:41.96459\n",
      "[68]\ttrain-rmse:16.78960\tval-rmse:41.92922\n",
      "[69]\ttrain-rmse:16.58128\tval-rmse:41.95229\n",
      "[70]\ttrain-rmse:16.37294\tval-rmse:41.92156\n",
      "[71]\ttrain-rmse:16.30854\tval-rmse:41.90380\n",
      "[72]\ttrain-rmse:16.14811\tval-rmse:41.93217\n",
      "[73]\ttrain-rmse:16.09462\tval-rmse:41.95718\n",
      "[74]\ttrain-rmse:15.97923\tval-rmse:41.98154\n",
      "[75]\ttrain-rmse:15.87567\tval-rmse:41.99138\n",
      "[76]\ttrain-rmse:15.65634\tval-rmse:42.01682\n",
      "[77]\ttrain-rmse:15.44342\tval-rmse:42.04433\n",
      "[78]\ttrain-rmse:15.34866\tval-rmse:42.06455\n",
      "[79]\ttrain-rmse:15.19899\tval-rmse:42.05432\n",
      "[80]\ttrain-rmse:15.15253\tval-rmse:42.04253\n",
      "[81]\ttrain-rmse:15.08495\tval-rmse:42.01449\n",
      "[82]\ttrain-rmse:14.91253\tval-rmse:41.99832\n",
      "[83]\ttrain-rmse:14.86978\tval-rmse:42.00383\n",
      "[84]\ttrain-rmse:14.81956\tval-rmse:42.03256\n",
      "[85]\ttrain-rmse:14.64793\tval-rmse:42.04437\n",
      "[86]\ttrain-rmse:14.51134\tval-rmse:42.07127\n",
      "[87]\ttrain-rmse:14.32102\tval-rmse:42.13774\n",
      "[88]\ttrain-rmse:14.20371\tval-rmse:42.13891\n",
      "[89]\ttrain-rmse:14.05944\tval-rmse:42.18904\n",
      "[90]\ttrain-rmse:13.87089\tval-rmse:42.20004\n",
      "[91]\ttrain-rmse:13.76708\tval-rmse:42.23774\n",
      "[92]\ttrain-rmse:13.62419\tval-rmse:42.23457\n",
      "[93]\ttrain-rmse:13.49858\tval-rmse:42.24920\n",
      "[94]\ttrain-rmse:13.42091\tval-rmse:42.26091\n",
      "[95]\ttrain-rmse:13.16711\tval-rmse:42.35369\n",
      "[96]\ttrain-rmse:13.08160\tval-rmse:42.37079\n",
      "[97]\ttrain-rmse:12.88797\tval-rmse:42.34939\n",
      "[98]\ttrain-rmse:12.73224\tval-rmse:42.37990\n",
      "[99]\ttrain-rmse:12.55993\tval-rmse:42.37920\n"
     ]
    },
    {
     "data": {
      "text/plain": [
       "<xgboost.core.Booster at 0x1762ebd7a60>"
      ]
     },
     "execution_count": 97,
     "metadata": {},
     "output_type": "execute_result"
    }
   ],
   "source": [
    "output = xgb.train(xgb_params, dtrain, num_boost_round=100, evals=watchlist)\n",
    "output"
   ]
  },
  {
   "cell_type": "code",
   "execution_count": 175,
   "id": "62d36caa",
   "metadata": {},
   "outputs": [],
   "source": [
    "def parse_xgb_output(output):\n",
    "    results = []\n",
    "\n",
    "    for line in output.stdout.strip().split('\\n'):\n",
    "        it_line, train_line, val_line = line.split('\\t')\n",
    "\n",
    "        it = int(it_line.strip('[]'))\n",
    "        train = float(train_line.split(':')[1])\n",
    "        val = float(val_line.split(':')[1])\n",
    "\n",
    "        results.append((it, train, val))\n",
    "    \n",
    "    columns = ['num_iter', 'train_rmse', 'val_rmse']\n",
    "    df_results = pd.DataFrame(results, columns=columns)\n",
    "    return df_results"
   ]
  },
  {
   "cell_type": "code",
   "execution_count": 176,
   "id": "1ee14da1",
   "metadata": {},
   "outputs": [],
   "source": [
    "scores = {}"
   ]
  },
  {
   "cell_type": "code",
   "execution_count": 181,
   "id": "727179c9",
   "metadata": {
    "scrolled": true
   },
   "outputs": [],
   "source": [
    "%%capture output\n",
    "   \n",
    "xgb_params = {\n",
    "    'eta': 0.3, \n",
    "    'max_depth': 6,\n",
    "    'min_child_weight': 1,\n",
    "    \n",
    "    'objective': 'reg:squarederror',\n",
    "    'nthread': 8,\n",
    "    \n",
    "    'seed': 1,\n",
    "    'verbosity': 1,\n",
    "}\n",
    "\n",
    "model = xgb.train(xgb_params, dtrain, num_boost_round=200,\n",
    "                  verbose_eval=5,\n",
    "                  evals=watchlist)"
   ]
  },
  {
   "cell_type": "code",
   "execution_count": 182,
   "id": "426705e8",
   "metadata": {},
   "outputs": [],
   "source": [
    "key = 'eta=%s' % (xgb_params['eta'])\n",
    "scores[key] = parse_xgb_output(output)"
   ]
  },
  {
   "cell_type": "code",
   "execution_count": 183,
   "id": "f5040d8e",
   "metadata": {},
   "outputs": [
    {
     "data": {
      "text/plain": [
       "<matplotlib.legend.Legend at 0x176394617b0>"
      ]
     },
     "execution_count": 183,
     "metadata": {},
     "output_type": "execute_result"
    },
    {
     "data": {
      "image/png": "[encoded data removed]",
      "text/plain": [
       "<Figure size 640x480 with 1 Axes>"
      ]
     },
     "metadata": {},
     "output_type": "display_data"
    }
   ],
   "source": [
    "for eta, df_score in scores.items():\n",
    "    plt.plot(df_score.num_iter, df_score.val_rmse, label=eta)\n",
    "\n",
    "plt.legend()"
   ]
  },
  {
   "cell_type": "code",
   "execution_count": null,
   "id": "734ecb14",
   "metadata": {},
   "outputs": [],
   "source": []
  }
 ],
 "metadata": {
  "kernelspec": {
   "display_name": "Python 3 (ipykernel)",
   "language": "python",
   "name": "python3"
  },
  "language_info": {
   "codemirror_mode": {
    "name": "ipython",
    "version": 3
   },
   "file_extension": ".py",
   "mimetype": "text/x-python",
   "name": "python",
   "nbconvert_exporter": "python",
   "pygments_lexer": "ipython3",
   "version": "3.10.9"
  }
 },
 "nbformat": 4,
 "nbformat_minor": 5
}
