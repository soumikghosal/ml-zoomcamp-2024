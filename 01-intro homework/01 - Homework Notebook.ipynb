{
 "cells": [
  {
   "cell_type": "code",
   "execution_count": 1,
   "id": "219f6a87",
   "metadata": {},
   "outputs": [],
   "source": [
    "import pandas as pd"
   ]
  },
  {
   "cell_type": "markdown",
   "id": "0f4881cc",
   "metadata": {},
   "source": [
    "### Q1. Pandas version"
   ]
  },
  {
   "cell_type": "code",
   "execution_count": 2,
   "id": "11fe918a",
   "metadata": {},
   "outputs": [
    {
     "data": {
      "text/plain": [
       "'2.1.1'"
      ]
     },
     "execution_count": 2,
     "metadata": {},
     "output_type": "execute_result"
    }
   ],
   "source": [
    "pd.__version__"
   ]
  },
  {
   "cell_type": "code",
   "execution_count": 3,
   "id": "6cf5e358",
   "metadata": {},
   "outputs": [
    {
     "data": {
      "text/html": [
       "<div>\n",
       "<style scoped>\n",
       "    .dataframe tbody tr th:only-of-type {\n",
       "        vertical-align: middle;\n",
       "    }\n",
       "\n",
       "    .dataframe tbody tr th {\n",
       "        vertical-align: top;\n",
       "    }\n",
       "\n",
       "    .dataframe thead th {\n",
       "        text-align: right;\n",
       "    }\n",
       "</style>\n",
       "<table border=\"1\" class=\"dataframe\">\n",
       "  <thead>\n",
       "    <tr style=\"text-align: right;\">\n",
       "      <th></th>\n",
       "      <th>Laptop</th>\n",
       "      <th>Status</th>\n",
       "      <th>Brand</th>\n",
       "      <th>Model</th>\n",
       "      <th>CPU</th>\n",
       "      <th>RAM</th>\n",
       "      <th>Storage</th>\n",
       "      <th>Storage type</th>\n",
       "      <th>GPU</th>\n",
       "      <th>Screen</th>\n",
       "      <th>Touch</th>\n",
       "      <th>Final Price</th>\n",
       "    </tr>\n",
       "  </thead>\n",
       "  <tbody>\n",
       "    <tr>\n",
       "      <th>0</th>\n",
       "      <td>ASUS ExpertBook B1 B1502CBA-EJ0436X Intel Core...</td>\n",
       "      <td>New</td>\n",
       "      <td>Asus</td>\n",
       "      <td>ExpertBook</td>\n",
       "      <td>Intel Core i5</td>\n",
       "      <td>8</td>\n",
       "      <td>512</td>\n",
       "      <td>SSD</td>\n",
       "      <td>NaN</td>\n",
       "      <td>15.6</td>\n",
       "      <td>No</td>\n",
       "      <td>1009.00</td>\n",
       "    </tr>\n",
       "    <tr>\n",
       "      <th>1</th>\n",
       "      <td>Alurin Go Start Intel Celeron N4020/8GB/256GB ...</td>\n",
       "      <td>New</td>\n",
       "      <td>Alurin</td>\n",
       "      <td>Go</td>\n",
       "      <td>Intel Celeron</td>\n",
       "      <td>8</td>\n",
       "      <td>256</td>\n",
       "      <td>SSD</td>\n",
       "      <td>NaN</td>\n",
       "      <td>15.6</td>\n",
       "      <td>No</td>\n",
       "      <td>299.00</td>\n",
       "    </tr>\n",
       "    <tr>\n",
       "      <th>2</th>\n",
       "      <td>ASUS ExpertBook B1 B1502CBA-EJ0424X Intel Core...</td>\n",
       "      <td>New</td>\n",
       "      <td>Asus</td>\n",
       "      <td>ExpertBook</td>\n",
       "      <td>Intel Core i3</td>\n",
       "      <td>8</td>\n",
       "      <td>256</td>\n",
       "      <td>SSD</td>\n",
       "      <td>NaN</td>\n",
       "      <td>15.6</td>\n",
       "      <td>No</td>\n",
       "      <td>789.00</td>\n",
       "    </tr>\n",
       "    <tr>\n",
       "      <th>3</th>\n",
       "      <td>MSI Katana GF66 12UC-082XES Intel Core i7-1270...</td>\n",
       "      <td>New</td>\n",
       "      <td>MSI</td>\n",
       "      <td>Katana</td>\n",
       "      <td>Intel Core i7</td>\n",
       "      <td>16</td>\n",
       "      <td>1000</td>\n",
       "      <td>SSD</td>\n",
       "      <td>RTX 3050</td>\n",
       "      <td>15.6</td>\n",
       "      <td>No</td>\n",
       "      <td>1199.00</td>\n",
       "    </tr>\n",
       "    <tr>\n",
       "      <th>4</th>\n",
       "      <td>HP 15S-FQ5085NS Intel Core i5-1235U/16GB/512GB...</td>\n",
       "      <td>New</td>\n",
       "      <td>HP</td>\n",
       "      <td>15S</td>\n",
       "      <td>Intel Core i5</td>\n",
       "      <td>16</td>\n",
       "      <td>512</td>\n",
       "      <td>SSD</td>\n",
       "      <td>NaN</td>\n",
       "      <td>15.6</td>\n",
       "      <td>No</td>\n",
       "      <td>669.01</td>\n",
       "    </tr>\n",
       "  </tbody>\n",
       "</table>\n",
       "</div>"
      ],
      "text/plain": [
       "                                              Laptop Status   Brand  \\\n",
       "0  ASUS ExpertBook B1 B1502CBA-EJ0436X Intel Core...    New    Asus   \n",
       "1  Alurin Go Start Intel Celeron N4020/8GB/256GB ...    New  Alurin   \n",
       "2  ASUS ExpertBook B1 B1502CBA-EJ0424X Intel Core...    New    Asus   \n",
       "3  MSI Katana GF66 12UC-082XES Intel Core i7-1270...    New     MSI   \n",
       "4  HP 15S-FQ5085NS Intel Core i5-1235U/16GB/512GB...    New      HP   \n",
       "\n",
       "        Model            CPU  RAM  Storage Storage type       GPU  Screen  \\\n",
       "0  ExpertBook  Intel Core i5    8      512          SSD       NaN    15.6   \n",
       "1          Go  Intel Celeron    8      256          SSD       NaN    15.6   \n",
       "2  ExpertBook  Intel Core i3    8      256          SSD       NaN    15.6   \n",
       "3      Katana  Intel Core i7   16     1000          SSD  RTX 3050    15.6   \n",
       "4         15S  Intel Core i5   16      512          SSD       NaN    15.6   \n",
       "\n",
       "  Touch  Final Price  \n",
       "0    No      1009.00  \n",
       "1    No       299.00  \n",
       "2    No       789.00  \n",
       "3    No      1199.00  \n",
       "4    No       669.01  "
      ]
     },
     "execution_count": 3,
     "metadata": {},
     "output_type": "execute_result"
    }
   ],
   "source": [
    "laptop_df = pd.read_csv(\"data/laptops.csv\")\n",
    "laptop_df.head()"
   ]
  },
  {
   "cell_type": "markdown",
   "id": "9f369baf",
   "metadata": {},
   "source": [
    "### Q2. Records count"
   ]
  },
  {
   "cell_type": "code",
   "execution_count": 4,
   "id": "249adc73",
   "metadata": {},
   "outputs": [
    {
     "name": "stdout",
     "output_type": "stream",
     "text": [
      "Record count: 2160 rows\n"
     ]
    }
   ],
   "source": [
    "print(f\"Record count: {laptop_df.shape[0]} rows\")"
   ]
  },
  {
   "cell_type": "markdown",
   "id": "47959714",
   "metadata": {},
   "source": [
    "### Q3. Laptop brands\n"
   ]
  },
  {
   "cell_type": "code",
   "execution_count": 5,
   "id": "ee665d2f",
   "metadata": {},
   "outputs": [
    {
     "name": "stdout",
     "output_type": "stream",
     "text": [
      "Laptop brands: 27 unique brands\n"
     ]
    }
   ],
   "source": [
    "print(f\"Laptop brands: {laptop_df['Brand'].nunique()} unique brands\")"
   ]
  },
  {
   "cell_type": "markdown",
   "id": "7085af71",
   "metadata": {},
   "source": [
    "### Q4. Missing values\n"
   ]
  },
  {
   "cell_type": "code",
   "execution_count": 9,
   "id": "a9dbb011",
   "metadata": {},
   "outputs": [
    {
     "name": "stdout",
     "output_type": "stream",
     "text": [
      "There are 3 columns in the dataset that have missing values\n"
     ]
    }
   ],
   "source": [
    "na_count = laptop_df.isna().sum() \n",
    "print(f\"There are {len(na_count[na_count > 0])} columns in the dataset that have missing values\")"
   ]
  },
  {
   "cell_type": "markdown",
   "id": "b16b7c0a",
   "metadata": {},
   "source": [
    "### Q5. Maximum final price\n"
   ]
  },
  {
   "cell_type": "code",
   "execution_count": 10,
   "id": "f6c22523",
   "metadata": {},
   "outputs": [
    {
     "name": "stdout",
     "output_type": "stream",
     "text": [
      "Maximum final price: 7150.47\n"
     ]
    }
   ],
   "source": [
    "print(f\"Maximum final price: {laptop_df['Final Price'].max()}\")"
   ]
  },
  {
   "cell_type": "markdown",
   "id": "9fd2edca",
   "metadata": {},
   "source": [
    "### Q6. Median value of Screen\n"
   ]
  },
  {
   "cell_type": "code",
   "execution_count": 17,
   "id": "fa08cb20",
   "metadata": {},
   "outputs": [
    {
     "name": "stdout",
     "output_type": "stream",
     "text": [
      "The median value hasn't changed\n"
     ]
    }
   ],
   "source": [
    "# Find the median value of Screen column in the dataset.\n",
    "median_screen = laptop_df['Screen'].median()\n",
    "\n",
    "# Calculate the most frequent value of the same Screen column.\n",
    "mode_screen = laptop_df['Screen'].mode()\n",
    "\n",
    "#Use fillna method to fill the missing values in Screen column with the most frequent value from the previous step\n",
    "laptop_df['Screen'] = laptop_df['Screen'].fillna(mode_screen)\n",
    "\n",
    "# Calculate the median value of Screen once again.\n",
    "new_median_screen = laptop_df['Screen'].median()\n",
    "\n",
    "# Check if it has changed\n",
    "if median_screen == new_median_screen:\n",
    "    print(\"The median value hasn't changed\")\n",
    "else:\n",
    "    print(\"The median value has changed\")"
   ]
  },
  {
   "cell_type": "markdown",
   "id": "b42de62d",
   "metadata": {},
   "source": [
    "### Q7. Sum of weights\n"
   ]
  },
  {
   "cell_type": "code",
   "execution_count": 36,
   "id": "5b413a0a",
   "metadata": {},
   "outputs": [
    {
     "name": "stdout",
     "output_type": "stream",
     "text": [
      "The sum of all the elements of the result: 91.30\n"
     ]
    }
   ],
   "source": [
    "import numpy as np\n",
    "from numpy.linalg import inv, det\n",
    "\n",
    "# Select all the \"Innjoo\" laptops from the dataset.\n",
    "# Select only columns RAM, Storage, Screen\n",
    "innjoo_df = laptop_df[laptop_df['Brand'] == \"Innjoo\"][['RAM', 'Storage', 'Screen']]\n",
    "\n",
    "# Get the numpy array\n",
    "X = innjoo_df.to_numpy()\n",
    "\n",
    "# Matrix multiplication\n",
    "XTX = np.matmul(X.T, X)\n",
    "\n",
    "# Inverse of XTX\n",
    "inv_XTX = inv(np.matrix(XTX))\n",
    "\n",
    "# defining y\n",
    "y = [1100, 1300, 800, 900, 1000, 1100]\n",
    "\n",
    "# Calculating the weights\n",
    "weights = np.matmul(inv_XTX, X.T)\n",
    "weights = np.matmul(weights, y)\n",
    "\n",
    "# The sum of all the elements of the result\n",
    "print(f\"The sum of all the elements of the result: {weights.sum():.2f}\")"
   ]
  }
 ],
 "metadata": {
  "kernelspec": {
   "display_name": "Python 3 (ipykernel)",
   "language": "python",
   "name": "python3"
  },
  "language_info": {
   "codemirror_mode": {
    "name": "ipython",
    "version": 3
   },
   "file_extension": ".py",
   "mimetype": "text/x-python",
   "name": "python",
   "nbconvert_exporter": "python",
   "pygments_lexer": "ipython3",
   "version": "3.10.9"
  }
 },
 "nbformat": 4,
 "nbformat_minor": 5
}
