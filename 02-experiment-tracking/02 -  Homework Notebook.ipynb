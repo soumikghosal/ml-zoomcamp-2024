{
 "cells": [
  {
   "cell_type": "code",
   "execution_count": 2,
   "id": "c605ccfa",
   "metadata": {},
   "outputs": [],
   "source": [
    "import pandas as pd\n",
    "import matplotlib.pyplot as plt\n",
    "import seaborn as sns\n",
    "from sklearn.linear_model import LinearRegression\n",
    "from sklearn.metrics import mean_squared_error\n",
    "import numpy as np\n",
    "import warnings\n",
    "warnings.filterwarnings(\"ignore\")"
   ]
  },
  {
   "cell_type": "code",
   "execution_count": 3,
   "id": "3725df14",
   "metadata": {},
   "outputs": [
    {
     "data": {
      "text/html": [
       "<div>\n",
       "<style scoped>\n",
       "    .dataframe tbody tr th:only-of-type {\n",
       "        vertical-align: middle;\n",
       "    }\n",
       "\n",
       "    .dataframe tbody tr th {\n",
       "        vertical-align: top;\n",
       "    }\n",
       "\n",
       "    .dataframe thead th {\n",
       "        text-align: right;\n",
       "    }\n",
       "</style>\n",
       "<table border=\"1\" class=\"dataframe\">\n",
       "  <thead>\n",
       "    <tr style=\"text-align: right;\">\n",
       "      <th></th>\n",
       "      <th>Laptop</th>\n",
       "      <th>Status</th>\n",
       "      <th>Brand</th>\n",
       "      <th>Model</th>\n",
       "      <th>CPU</th>\n",
       "      <th>RAM</th>\n",
       "      <th>Storage</th>\n",
       "      <th>Storage type</th>\n",
       "      <th>GPU</th>\n",
       "      <th>Screen</th>\n",
       "      <th>Touch</th>\n",
       "      <th>Final Price</th>\n",
       "    </tr>\n",
       "  </thead>\n",
       "  <tbody>\n",
       "    <tr>\n",
       "      <th>0</th>\n",
       "      <td>ASUS ExpertBook B1 B1502CBA-EJ0436X Intel Core...</td>\n",
       "      <td>New</td>\n",
       "      <td>Asus</td>\n",
       "      <td>ExpertBook</td>\n",
       "      <td>Intel Core i5</td>\n",
       "      <td>8</td>\n",
       "      <td>512</td>\n",
       "      <td>SSD</td>\n",
       "      <td>NaN</td>\n",
       "      <td>15.6</td>\n",
       "      <td>No</td>\n",
       "      <td>1009.00</td>\n",
       "    </tr>\n",
       "    <tr>\n",
       "      <th>1</th>\n",
       "      <td>Alurin Go Start Intel Celeron N4020/8GB/256GB ...</td>\n",
       "      <td>New</td>\n",
       "      <td>Alurin</td>\n",
       "      <td>Go</td>\n",
       "      <td>Intel Celeron</td>\n",
       "      <td>8</td>\n",
       "      <td>256</td>\n",
       "      <td>SSD</td>\n",
       "      <td>NaN</td>\n",
       "      <td>15.6</td>\n",
       "      <td>No</td>\n",
       "      <td>299.00</td>\n",
       "    </tr>\n",
       "    <tr>\n",
       "      <th>2</th>\n",
       "      <td>ASUS ExpertBook B1 B1502CBA-EJ0424X Intel Core...</td>\n",
       "      <td>New</td>\n",
       "      <td>Asus</td>\n",
       "      <td>ExpertBook</td>\n",
       "      <td>Intel Core i3</td>\n",
       "      <td>8</td>\n",
       "      <td>256</td>\n",
       "      <td>SSD</td>\n",
       "      <td>NaN</td>\n",
       "      <td>15.6</td>\n",
       "      <td>No</td>\n",
       "      <td>789.00</td>\n",
       "    </tr>\n",
       "    <tr>\n",
       "      <th>3</th>\n",
       "      <td>MSI Katana GF66 12UC-082XES Intel Core i7-1270...</td>\n",
       "      <td>New</td>\n",
       "      <td>MSI</td>\n",
       "      <td>Katana</td>\n",
       "      <td>Intel Core i7</td>\n",
       "      <td>16</td>\n",
       "      <td>1000</td>\n",
       "      <td>SSD</td>\n",
       "      <td>RTX 3050</td>\n",
       "      <td>15.6</td>\n",
       "      <td>No</td>\n",
       "      <td>1199.00</td>\n",
       "    </tr>\n",
       "    <tr>\n",
       "      <th>4</th>\n",
       "      <td>HP 15S-FQ5085NS Intel Core i5-1235U/16GB/512GB...</td>\n",
       "      <td>New</td>\n",
       "      <td>HP</td>\n",
       "      <td>15S</td>\n",
       "      <td>Intel Core i5</td>\n",
       "      <td>16</td>\n",
       "      <td>512</td>\n",
       "      <td>SSD</td>\n",
       "      <td>NaN</td>\n",
       "      <td>15.6</td>\n",
       "      <td>No</td>\n",
       "      <td>669.01</td>\n",
       "    </tr>\n",
       "  </tbody>\n",
       "</table>\n",
       "</div>"
      ],
      "text/plain": [
       "                                              Laptop Status   Brand  \\\n",
       "0  ASUS ExpertBook B1 B1502CBA-EJ0436X Intel Core...    New    Asus   \n",
       "1  Alurin Go Start Intel Celeron N4020/8GB/256GB ...    New  Alurin   \n",
       "2  ASUS ExpertBook B1 B1502CBA-EJ0424X Intel Core...    New    Asus   \n",
       "3  MSI Katana GF66 12UC-082XES Intel Core i7-1270...    New     MSI   \n",
       "4  HP 15S-FQ5085NS Intel Core i5-1235U/16GB/512GB...    New      HP   \n",
       "\n",
       "        Model            CPU  RAM  Storage Storage type       GPU  Screen  \\\n",
       "0  ExpertBook  Intel Core i5    8      512          SSD       NaN    15.6   \n",
       "1          Go  Intel Celeron    8      256          SSD       NaN    15.6   \n",
       "2  ExpertBook  Intel Core i3    8      256          SSD       NaN    15.6   \n",
       "3      Katana  Intel Core i7   16     1000          SSD  RTX 3050    15.6   \n",
       "4         15S  Intel Core i5   16      512          SSD       NaN    15.6   \n",
       "\n",
       "  Touch  Final Price  \n",
       "0    No      1009.00  \n",
       "1    No       299.00  \n",
       "2    No       789.00  \n",
       "3    No      1199.00  \n",
       "4    No       669.01  "
      ]
     },
     "execution_count": 3,
     "metadata": {},
     "output_type": "execute_result"
    }
   ],
   "source": [
    "df = pd.read_csv(\"data/laptops.csv\")\n",
    "df.head()"
   ]
  },
  {
   "cell_type": "code",
   "execution_count": 4,
   "id": "dae1ffdd",
   "metadata": {},
   "outputs": [
    {
     "data": {
      "text/plain": [
       "Index(['laptop', 'status', 'brand', 'model', 'cpu', 'ram', 'storage',\n",
       "       'storage_type', 'gpu', 'screen', 'touch', 'final_price'],\n",
       "      dtype='object')"
      ]
     },
     "execution_count": 4,
     "metadata": {},
     "output_type": "execute_result"
    }
   ],
   "source": [
    "# Normalize the column names\n",
    "df.columns = df.columns.str.lower().str.replace(' ', '_')\n",
    "df.columns"
   ]
  },
  {
   "cell_type": "code",
   "execution_count": 5,
   "id": "cf1413ea",
   "metadata": {},
   "outputs": [],
   "source": [
    "# Using subset of columns\n",
    "sub_df = df[['ram', 'storage', 'screen', 'final_price']]"
   ]
  },
  {
   "cell_type": "code",
   "execution_count": 6,
   "id": "0daf5430",
   "metadata": {},
   "outputs": [
    {
     "data": {
      "text/plain": [
       "<Axes: xlabel='final_price', ylabel='Count'>"
      ]
     },
     "execution_count": 6,
     "metadata": {},
     "output_type": "execute_result"
    },
    {
     "data": {
      "image/png": "[encoded data removed]",
      "text/plain": [
       "<Figure size 640x480 with 1 Axes>"
      ]
     },
     "metadata": {},
     "output_type": "display_data"
    }
   ],
   "source": [
    "# EDA\n",
    "sns.histplot(sub_df['final_price'], kde=True) #Long Tail"
   ]
  },
  {
   "cell_type": "code",
   "execution_count": 7,
   "id": "f2631658",
   "metadata": {},
   "outputs": [
    {
     "data": {
      "text/plain": [
       "<Axes: xlabel='final_price', ylabel='Count'>"
      ]
     },
     "execution_count": 7,
     "metadata": {},
     "output_type": "execute_result"
    },
    {
     "data": {
      "image/png": "[encoded data removed]",
      "text/plain": [
       "<Figure size 640x480 with 1 Axes>"
      ]
     },
     "metadata": {},
     "output_type": "display_data"
    }
   ],
   "source": [
    "sns.histplot(np.log1p(sub_df['final_price']), kde=True) #Long Tail"
   ]
  },
  {
   "cell_type": "markdown",
   "id": "58071b7b",
   "metadata": {},
   "source": [
    "### Question 1"
   ]
  },
  {
   "cell_type": "code",
   "execution_count": 8,
   "id": "8fb53028",
   "metadata": {},
   "outputs": [
    {
     "name": "stdout",
     "output_type": "stream",
     "text": [
      "Column with missing values: screen\n"
     ]
    }
   ],
   "source": [
    "missing_val = sub_df.isna().sum()\n",
    "print(f\"Column with missing values: {missing_val[missing_val>0].index[0]}\")"
   ]
  },
  {
   "cell_type": "markdown",
   "id": "1c19d235",
   "metadata": {},
   "source": [
    "### Question 2"
   ]
  },
  {
   "cell_type": "code",
   "execution_count": 9,
   "id": "46e9201b",
   "metadata": {},
   "outputs": [
    {
     "name": "stdout",
     "output_type": "stream",
     "text": [
      "Median of the column 'ram' is : 16.0\n"
     ]
    }
   ],
   "source": [
    "print(f\"Median of the column 'ram' is : {sub_df['ram'].median()}\")"
   ]
  },
  {
   "cell_type": "code",
   "execution_count": 10,
   "id": "9dd93022",
   "metadata": {},
   "outputs": [],
   "source": [
    "# n = len(sub_df)\n",
    "\n",
    "# n_val = int(n * 0.2)\n",
    "# n_test = int(n * 0.2)\n",
    "# n_train = n - n_val - n_test\n",
    "\n",
    "# val_df = sub_df[:n_val].reset_index(drop=True)\n",
    "# test_df = sub_df[:n_val+n_test].reset_index(drop=True)\n",
    "# train_df = sub_df[n_val+n_test:].reset_index(drop=True)"
   ]
  },
  {
   "cell_type": "code",
   "execution_count": 118,
   "id": "82c74942",
   "metadata": {},
   "outputs": [],
   "source": [
    "n = len(sub_df)\n",
    "idx = np.arange(n)\n",
    "\n",
    "np.random.seed(42)\n",
    "np.random.shuffle(idx)\n",
    "\n",
    "n_val = int(n * 0.2)\n",
    "n_test = int(n * 0.2)\n",
    "n_train = n - n_val - n_test\n",
    "\n",
    "train_df = sub_df.iloc[idx[:n_train]]\n",
    "val_df = sub_df.iloc[idx[n_train:n_train+n_val]]\n",
    "test_df = sub_df.iloc[idx[n_train+n_val:]]"
   ]
  },
  {
   "cell_type": "code",
   "execution_count": 119,
   "id": "4cca7b6e",
   "metadata": {},
   "outputs": [],
   "source": [
    "y_train = train_df[['final_price']].reset_index(drop=True)\n",
    "y_val = val_df[['final_price']].reset_index(drop=True)\n",
    "y_test = test_df[['final_price']].reset_index(drop=True)"
   ]
  },
  {
   "cell_type": "code",
   "execution_count": 120,
   "id": "a526cd7f",
   "metadata": {},
   "outputs": [],
   "source": [
    "del train_df['final_price']\n",
    "del val_df['final_price']\n",
    "del test_df['final_price']"
   ]
  },
  {
   "cell_type": "code",
   "execution_count": 121,
   "id": "fa066145",
   "metadata": {},
   "outputs": [],
   "source": [
    "def train_linear_regression_reg(X, y, r=0):\n",
    "    ones = np.ones(X.shape[0])\n",
    "    X = np.column_stack([ones, X])\n",
    "\n",
    "    XTX = X.T.dot(X)\n",
    "    XTX = XTX + r * np.eye(XTX.shape[0])\n",
    "\n",
    "    XTX_inv = np.linalg.inv(XTX)\n",
    "    w_full = XTX_inv.dot(X.T).dot(y)\n",
    "    \n",
    "    return w_full[0], w_full[1:]"
   ]
  },
  {
   "cell_type": "code",
   "execution_count": 122,
   "id": "e85b20d8",
   "metadata": {},
   "outputs": [],
   "source": [
    "def rmse(y, y_pred):\n",
    "    se = (y - y_pred) ** 2\n",
    "    mse = se.mean()\n",
    "    return np.sqrt(mse)"
   ]
  },
  {
   "cell_type": "code",
   "execution_count": 123,
   "id": "f8b3a0fb",
   "metadata": {},
   "outputs": [
    {
     "data": {
      "text/plain": [
       "597.36"
      ]
     },
     "execution_count": 123,
     "metadata": {},
     "output_type": "execute_result"
    }
   ],
   "source": [
    "# ram_mean = train_df['ram'].mean()\n",
    "ram_mean = 0\n",
    "\n",
    "train_df = train_df.fillna(ram_mean)\n",
    "val_df = val_df.fillna(ram_mean)\n",
    "\n",
    "w0, w = train_linear_regression_reg(X=np.array(train_df), y=np.array(y_train).reshape(1, -1)[0])\n",
    "y_pred = w0 + np.array(val_df).dot(w)\n",
    "round(rmse(y_val.values.reshape(1,-1)[0], y_pred), 2)"
   ]
  },
  {
   "cell_type": "code",
   "execution_count": 44,
   "id": "67af291d",
   "metadata": {},
   "outputs": [
    {
     "data": {
      "text/plain": [
       "600.36"
      ]
     },
     "execution_count": 44,
     "metadata": {},
     "output_type": "execute_result"
    }
   ],
   "source": [
    "ram_mean = train_df['ram'].mean()\n",
    "# ram_mean = 0\n",
    "\n",
    "train_df = train_df.fillna(ram_mean)\n",
    "val_df = val_df.fillna(ram_mean)\n",
    "\n",
    "w0, w = train_linear_regression_reg(X=np.array(train_df), y=np.array(y_train).reshape(1, -1)[0])\n",
    "\n",
    "y_pred = w0 + np.array(val_df).dot(w)\n",
    "\n",
    "round(rmse(y_val.values.reshape(1,-1)[0], y_pred), 2)"
   ]
  },
  {
   "cell_type": "markdown",
   "id": "6e1ea93d",
   "metadata": {},
   "source": [
    "### REGULARIZATION"
   ]
  },
  {
   "cell_type": "markdown",
   "id": "b9a6b466",
   "metadata": {},
   "source": [
    "#### QUESTION 4"
   ]
  },
  {
   "cell_type": "code",
   "execution_count": 124,
   "id": "87567bd2",
   "metadata": {},
   "outputs": [],
   "source": [
    "rmse_lst = []\n",
    "alpha = [0, 0.01, 0.1, 1, 5, 10, 100]\n",
    "\n",
    "for r in alpha:\n",
    "    \n",
    "    w0, w = train_linear_regression_reg(X=np.array(train_df), y=np.array(y_train).reshape(1, -1)[0], r=r)\n",
    "    \n",
    "    y_pred = w0 + np.array(val_df).dot(w)\n",
    "    \n",
    "    rmse_lst.append(round(rmse(y_val.values.reshape(1,-1)[0], y_pred), 2))"
   ]
  },
  {
   "cell_type": "code",
   "execution_count": 125,
   "id": "9b44866b",
   "metadata": {},
   "outputs": [
    {
     "name": "stdout",
     "output_type": "stream",
     "text": [
      "The alpha value for which the RMSE is the lowest is: 5\n"
     ]
    }
   ],
   "source": [
    "print(f\"The alpha value for which the RMSE is the lowest is: {alpha[np.argmin(rmse_lst)]}\")"
   ]
  },
  {
   "cell_type": "code",
   "execution_count": 126,
   "id": "25235503",
   "metadata": {},
   "outputs": [
    {
     "data": {
      "text/plain": [
       "[597.36, 597.36, 597.35, 597.21, 597.01, 597.06, 597.9]"
      ]
     },
     "execution_count": 126,
     "metadata": {},
     "output_type": "execute_result"
    }
   ],
   "source": [
    "rmse_lst"
   ]
  },
  {
   "cell_type": "code",
   "execution_count": 127,
   "id": "64df2ff2",
   "metadata": {},
   "outputs": [],
   "source": [
    "rmse_lst_val = []\n",
    "\n",
    "for random_seed in [0, 1, 2, 3, 4, 5, 6, 7, 8, 9]:\n",
    "    \n",
    "    n = len(sub_df)\n",
    "    idx = np.arange(n)\n",
    "\n",
    "    np.random.seed(random_seed)\n",
    "    np.random.shuffle(idx)\n",
    "\n",
    "    n_val = int(n * 0.2)\n",
    "    n_test = int(n * 0.2)\n",
    "    n_train = n - n_val - n_test\n",
    "\n",
    "    train_df = sub_df.iloc[idx[:n_train]]\n",
    "    val_df = sub_df.iloc[idx[n_train:n_train+n_val]]\n",
    "    test_df = sub_df.iloc[idx[n_train+n_val:]]\n",
    "\n",
    "    y_train = train_df[['final_price']].reset_index(drop=True)\n",
    "    y_val = val_df[['final_price']].reset_index(drop=True)\n",
    "    y_test = test_df[['final_price']].reset_index(drop=True)\n",
    "\n",
    "    del train_df['final_price']\n",
    "    del val_df['final_price']\n",
    "    del test_df['final_price']\n",
    "\n",
    "    # ram_mean = train_df['ram'].mean()\n",
    "    ram_mean = 0\n",
    "\n",
    "    train_df = train_df.fillna(ram_mean)\n",
    "    val_df = val_df.fillna(ram_mean)\n",
    "\n",
    "    w0, w = train_linear_regression_reg(X=np.array(train_df), y=np.array(y_train).reshape(1, -1)[0])\n",
    "    \n",
    "    y_pred = w0 + np.array(val_df).dot(w)\n",
    "    rmse_val = round(rmse(y_val.values.reshape(1,-1)[0], y_pred), 2)\n",
    "    \n",
    "    y_pred = w0 + np.array(test_df).dot(w)\n",
    "\n",
    "    rmse_lst_val.append(rmse_val)"
   ]
  },
  {
   "cell_type": "code",
   "execution_count": 128,
   "id": "7903ca3d",
   "metadata": {},
   "outputs": [
    {
     "name": "stdout",
     "output_type": "stream",
     "text": [
      "RMSE spread validation = 29.176152950654732\n"
     ]
    }
   ],
   "source": [
    "print(f\"RMSE spread validation = {np.std(rmse_lst_val)}\")"
   ]
  },
  {
   "cell_type": "markdown",
   "id": "bc16c2fe",
   "metadata": {},
   "source": [
    "### QUESTION 6"
   ]
  },
  {
   "cell_type": "code",
   "execution_count": 129,
   "id": "0c7f463a",
   "metadata": {},
   "outputs": [
    {
     "name": "stdout",
     "output_type": "stream",
     "text": [
      "(432, 4)\n",
      "(432, 3)\n",
      "RMSE test = 608.61\n"
     ]
    }
   ],
   "source": [
    "rmse_lst_test = []\n",
    "\n",
    "n = len(sub_df)\n",
    "idx = np.arange(n)\n",
    "\n",
    "np.random.seed(9)\n",
    "np.random.shuffle(idx)\n",
    "\n",
    "n_val = int(n * 0.2)\n",
    "n_test = int(n * 0.2)\n",
    "n_train = n - n_val - n_test\n",
    "\n",
    "train_df = sub_df.iloc[idx[:n_train]]\n",
    "val_df = sub_df.iloc[idx[n_train:n_train+n_val]]\n",
    "test_df = sub_df.iloc[idx[n_train+n_val:]]\n",
    "print(test_df.shape)\n",
    "\n",
    "y_train = train_df[['final_price']].reset_index(drop=True)\n",
    "y_val = val_df[['final_price']].reset_index(drop=True)\n",
    "y_test = test_df[['final_price']].reset_index(drop=True)\n",
    "\n",
    "del train_df['final_price']\n",
    "del val_df['final_price']\n",
    "del test_df['final_price']\n",
    "\n",
    "# ram_mean = train_df['ram'].mean()\n",
    "train_df = pd.concat([train_df, val_df])\n",
    "y_train = pd.concat([y_train, y_val])\n",
    "\n",
    "ram_mean = 0\n",
    "\n",
    "train_df = train_df.fillna(ram_mean)\n",
    "test_df = test_df.fillna(ram_mean)\n",
    "\n",
    "w0, w = train_linear_regression_reg(X=np.array(train_df), y=np.array(y_train).reshape(1, -1)[0], r=0.001)\n",
    "\n",
    "y_pred = w0 + np.array(test_df).dot(w)\n",
    "print(test_df.shape)\n",
    "rmse_test = round(rmse(y_test.values.reshape(1,-1)[0], y_pred), 2)\n",
    "\n",
    "rmse_lst_test.append(rmse_test)\n",
    "print(f\"RMSE test = {rmse_lst_test[0]}\")"
   ]
  },
  {
   "cell_type": "code",
   "execution_count": null,
   "id": "249158f2",
   "metadata": {},
   "outputs": [],
   "source": []
  }
 ],
 "metadata": {
  "kernelspec": {
   "display_name": "Python 3 (ipykernel)",
   "language": "python",
   "name": "python3"
  },
  "language_info": {
   "codemirror_mode": {
    "name": "ipython",
    "version": 3
   },
   "file_extension": ".py",
   "mimetype": "text/x-python",
   "name": "python",
   "nbconvert_exporter": "python",
   "pygments_lexer": "ipython3",
   "version": "3.10.9"
  }
 },
 "nbformat": 4,
 "nbformat_minor": 5
}
