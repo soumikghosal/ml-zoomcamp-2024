{
 "cells": [
  {
   "cell_type": "code",
   "execution_count": 71,
   "id": "009334ab",
   "metadata": {},
   "outputs": [],
   "source": [
    "import pandas as pd\n",
    "import numpy as np"
   ]
  },
  {
   "cell_type": "code",
   "execution_count": 72,
   "id": "a5b026c8",
   "metadata": {},
   "outputs": [
    {
     "data": {
      "text/html": [
       "<div>\n",
       "<style scoped>\n",
       "    .dataframe tbody tr th:only-of-type {\n",
       "        vertical-align: middle;\n",
       "    }\n",
       "\n",
       "    .dataframe tbody tr th {\n",
       "        vertical-align: top;\n",
       "    }\n",
       "\n",
       "    .dataframe thead th {\n",
       "        text-align: right;\n",
       "    }\n",
       "</style>\n",
       "<table border=\"1\" class=\"dataframe\">\n",
       "  <thead>\n",
       "    <tr style=\"text-align: right;\">\n",
       "      <th></th>\n",
       "      <th>age</th>\n",
       "      <th>job</th>\n",
       "      <th>marital</th>\n",
       "      <th>education</th>\n",
       "      <th>default</th>\n",
       "      <th>balance</th>\n",
       "      <th>housing</th>\n",
       "      <th>loan</th>\n",
       "      <th>contact</th>\n",
       "      <th>day</th>\n",
       "      <th>month</th>\n",
       "      <th>duration</th>\n",
       "      <th>campaign</th>\n",
       "      <th>pdays</th>\n",
       "      <th>previous</th>\n",
       "      <th>poutcome</th>\n",
       "      <th>y</th>\n",
       "    </tr>\n",
       "  </thead>\n",
       "  <tbody>\n",
       "    <tr>\n",
       "      <th>0</th>\n",
       "      <td>58</td>\n",
       "      <td>management</td>\n",
       "      <td>married</td>\n",
       "      <td>tertiary</td>\n",
       "      <td>no</td>\n",
       "      <td>2143</td>\n",
       "      <td>yes</td>\n",
       "      <td>no</td>\n",
       "      <td>unknown</td>\n",
       "      <td>5</td>\n",
       "      <td>may</td>\n",
       "      <td>261</td>\n",
       "      <td>1</td>\n",
       "      <td>-1</td>\n",
       "      <td>0</td>\n",
       "      <td>unknown</td>\n",
       "      <td>no</td>\n",
       "    </tr>\n",
       "    <tr>\n",
       "      <th>1</th>\n",
       "      <td>44</td>\n",
       "      <td>technician</td>\n",
       "      <td>single</td>\n",
       "      <td>secondary</td>\n",
       "      <td>no</td>\n",
       "      <td>29</td>\n",
       "      <td>yes</td>\n",
       "      <td>no</td>\n",
       "      <td>unknown</td>\n",
       "      <td>5</td>\n",
       "      <td>may</td>\n",
       "      <td>151</td>\n",
       "      <td>1</td>\n",
       "      <td>-1</td>\n",
       "      <td>0</td>\n",
       "      <td>unknown</td>\n",
       "      <td>no</td>\n",
       "    </tr>\n",
       "    <tr>\n",
       "      <th>2</th>\n",
       "      <td>33</td>\n",
       "      <td>entrepreneur</td>\n",
       "      <td>married</td>\n",
       "      <td>secondary</td>\n",
       "      <td>no</td>\n",
       "      <td>2</td>\n",
       "      <td>yes</td>\n",
       "      <td>yes</td>\n",
       "      <td>unknown</td>\n",
       "      <td>5</td>\n",
       "      <td>may</td>\n",
       "      <td>76</td>\n",
       "      <td>1</td>\n",
       "      <td>-1</td>\n",
       "      <td>0</td>\n",
       "      <td>unknown</td>\n",
       "      <td>no</td>\n",
       "    </tr>\n",
       "    <tr>\n",
       "      <th>3</th>\n",
       "      <td>47</td>\n",
       "      <td>blue-collar</td>\n",
       "      <td>married</td>\n",
       "      <td>unknown</td>\n",
       "      <td>no</td>\n",
       "      <td>1506</td>\n",
       "      <td>yes</td>\n",
       "      <td>no</td>\n",
       "      <td>unknown</td>\n",
       "      <td>5</td>\n",
       "      <td>may</td>\n",
       "      <td>92</td>\n",
       "      <td>1</td>\n",
       "      <td>-1</td>\n",
       "      <td>0</td>\n",
       "      <td>unknown</td>\n",
       "      <td>no</td>\n",
       "    </tr>\n",
       "    <tr>\n",
       "      <th>4</th>\n",
       "      <td>33</td>\n",
       "      <td>unknown</td>\n",
       "      <td>single</td>\n",
       "      <td>unknown</td>\n",
       "      <td>no</td>\n",
       "      <td>1</td>\n",
       "      <td>no</td>\n",
       "      <td>no</td>\n",
       "      <td>unknown</td>\n",
       "      <td>5</td>\n",
       "      <td>may</td>\n",
       "      <td>198</td>\n",
       "      <td>1</td>\n",
       "      <td>-1</td>\n",
       "      <td>0</td>\n",
       "      <td>unknown</td>\n",
       "      <td>no</td>\n",
       "    </tr>\n",
       "  </tbody>\n",
       "</table>\n",
       "</div>"
      ],
      "text/plain": [
       "   age           job  marital  education default  balance housing loan  \\\n",
       "0   58    management  married   tertiary      no     2143     yes   no   \n",
       "1   44    technician   single  secondary      no       29     yes   no   \n",
       "2   33  entrepreneur  married  secondary      no        2     yes  yes   \n",
       "3   47   blue-collar  married    unknown      no     1506     yes   no   \n",
       "4   33       unknown   single    unknown      no        1      no   no   \n",
       "\n",
       "   contact  day month  duration  campaign  pdays  previous poutcome   y  \n",
       "0  unknown    5   may       261         1     -1         0  unknown  no  \n",
       "1  unknown    5   may       151         1     -1         0  unknown  no  \n",
       "2  unknown    5   may        76         1     -1         0  unknown  no  \n",
       "3  unknown    5   may        92         1     -1         0  unknown  no  \n",
       "4  unknown    5   may       198         1     -1         0  unknown  no  "
      ]
     },
     "execution_count": 72,
     "metadata": {},
     "output_type": "execute_result"
    }
   ],
   "source": [
    "df = pd.read_csv(\"data/bank-full.csv\", delimiter=\";\")\n",
    "df.head()"
   ]
  },
  {
   "cell_type": "code",
   "execution_count": 73,
   "id": "e98c8541",
   "metadata": {},
   "outputs": [],
   "source": [
    "req_cols = ['age', 'job', 'marital', 'education', 'balance', 'housing', 'contact', 'day', 'month', 'duration', 'campaign', \n",
    "            'pdays', 'previous', 'poutcome', 'y']\n",
    "\n",
    "df = df[req_cols]"
   ]
  },
  {
   "cell_type": "markdown",
   "id": "6205f3ae",
   "metadata": {},
   "source": [
    "### DATA PREPARATION"
   ]
  },
  {
   "cell_type": "code",
   "execution_count": 74,
   "id": "6f227628",
   "metadata": {},
   "outputs": [
    {
     "data": {
      "text/plain": [
       "age          0\n",
       "job          0\n",
       "marital      0\n",
       "education    0\n",
       "balance      0\n",
       "housing      0\n",
       "contact      0\n",
       "day          0\n",
       "month        0\n",
       "duration     0\n",
       "campaign     0\n",
       "pdays        0\n",
       "previous     0\n",
       "poutcome     0\n",
       "y            0\n",
       "dtype: int64"
      ]
     },
     "execution_count": 74,
     "metadata": {},
     "output_type": "execute_result"
    }
   ],
   "source": [
    "# Check for missing values in the columns\n",
    "df.isna().sum()"
   ]
  },
  {
   "cell_type": "markdown",
   "id": "ca069e73",
   "metadata": {},
   "source": [
    "- No missing values in the data"
   ]
  },
  {
   "cell_type": "markdown",
   "id": "01821912",
   "metadata": {},
   "source": [
    "### QUESTION 1`"
   ]
  },
  {
   "cell_type": "code",
   "execution_count": 75,
   "id": "7429dd7b",
   "metadata": {},
   "outputs": [
    {
     "data": {
      "text/plain": [
       "0    secondary\n",
       "Name: education, dtype: object"
      ]
     },
     "execution_count": 75,
     "metadata": {},
     "output_type": "execute_result"
    }
   ],
   "source": [
    "df['education'].mode()"
   ]
  },
  {
   "cell_type": "code",
   "execution_count": 76,
   "id": "c8827fc8",
   "metadata": {},
   "outputs": [
    {
     "data": {
      "text/plain": [
       "education\n",
       "secondary    23202\n",
       "tertiary     13301\n",
       "primary       6851\n",
       "unknown       1857\n",
       "Name: count, dtype: int64"
      ]
     },
     "execution_count": 76,
     "metadata": {},
     "output_type": "execute_result"
    }
   ],
   "source": [
    "df['education'].value_counts()"
   ]
  },
  {
   "cell_type": "markdown",
   "id": "906ea8af",
   "metadata": {},
   "source": [
    "### QUESTION 2"
   ]
  },
  {
   "cell_type": "code",
   "execution_count": 77,
   "id": "55b1975d",
   "metadata": {},
   "outputs": [],
   "source": [
    "from pandas.api.types import is_numeric_dtype\n",
    "\n",
    "numerical_cols = [col for col in df.columns.tolist() if is_numeric_dtype(df[col])]\n",
    "cat_cols = list(set(df.columns) - set(numerical_cols))"
   ]
  },
  {
   "cell_type": "code",
   "execution_count": 78,
   "id": "5ea32583",
   "metadata": {},
   "outputs": [],
   "source": [
    "corr_df = df[numerical_cols].corr()"
   ]
  },
  {
   "cell_type": "code",
   "execution_count": 79,
   "id": "6f7d160e",
   "metadata": {},
   "outputs": [
    {
     "name": "stdout",
     "output_type": "stream",
     "text": [
      "correlation between age and balance: 0.09778273937134807\n",
      "correlation between day and campaign: 0.1624902163261922\n",
      "correlation between day and pdays: -0.09304407377294048\n",
      "correlation between pdays and previous: 0.4548196354805043\n"
     ]
    }
   ],
   "source": [
    "print(f\"correlation between age and balance: {corr_df.loc['age', 'balance']}\")\n",
    "print(f\"correlation between day and campaign: {corr_df.loc['day', 'campaign']}\")\n",
    "print(f\"correlation between day and pdays: {corr_df.loc['day', 'pdays']}\")\n",
    "print(f\"correlation between pdays and previous: {corr_df.loc['pdays', 'previous']}\")"
   ]
  },
  {
   "cell_type": "markdown",
   "id": "ba31b0ad",
   "metadata": {},
   "source": [
    "### TARGET ENCODING"
   ]
  },
  {
   "cell_type": "code",
   "execution_count": 80,
   "id": "2b29a0da",
   "metadata": {},
   "outputs": [],
   "source": [
    "# replace the values yes/no with 1/0\n",
    "df['y'] = df.y.replace({\"yes\":1, \"no\":0})"
   ]
  },
  {
   "cell_type": "code",
   "execution_count": 81,
   "id": "fee9bb58",
   "metadata": {},
   "outputs": [],
   "source": [
    "y = df['y']\n",
    "\n",
    "del df['y']\n",
    "\n",
    "cat_cols.remove('y')"
   ]
  },
  {
   "cell_type": "code",
   "execution_count": 121,
   "id": "92b4f64f",
   "metadata": {},
   "outputs": [],
   "source": [
    "from sklearn.model_selection import train_test_split\n",
    "X_train, X_test, y_train, y_test = train_test_split(df, y, test_size=0.2, random_state=42)\n",
    "X_train, X_val, y_train, y_val = train_test_split(X_train, y_train, test_size=X_test.shape[0], random_state=42)"
   ]
  },
  {
   "cell_type": "code",
   "execution_count": 122,
   "id": "eed02cc9",
   "metadata": {},
   "outputs": [
    {
     "name": "stdout",
     "output_type": "stream",
     "text": [
      "(27125, 14) (9043, 14) (9043, 14)\n"
     ]
    }
   ],
   "source": [
    "print(X_train.shape, X_val.shape, X_test.shape)"
   ]
  },
  {
   "cell_type": "markdown",
   "id": "d0b06458",
   "metadata": {},
   "source": [
    "### QUESTION 3"
   ]
  },
  {
   "cell_type": "code",
   "execution_count": 123,
   "id": "20218187",
   "metadata": {},
   "outputs": [
    {
     "name": "stdout",
     "output_type": "stream",
     "text": [
      "Mutual Information Score between y and marital is 0.002051023469964469\n",
      "Mutual Information Score between y and job is 0.007316045349524453\n",
      "Mutual Information Score between y and poutcome is 0.029532873038678076\n",
      "Mutual Information Score between y and contact is 0.013357917272815392\n",
      "Mutual Information Score between y and housing is 0.010341817487667673\n",
      "Mutual Information Score between y and education is 0.002698335063014118\n",
      "Mutual Information Score between y and month is 0.025090765672140206\n"
     ]
    }
   ],
   "source": [
    "from sklearn.metrics import mutual_info_score\n",
    "import warnings\n",
    "warnings.filterwarnings(\"ignore\")\n",
    "\n",
    "for col in cat_cols:\n",
    "    print(f\"Mutual Information Score between y and {col} is {mutual_info_score(y_train, X_train[col])}\")"
   ]
  },
  {
   "cell_type": "markdown",
   "id": "90ae4f36",
   "metadata": {},
   "source": [
    "### QUESTION 4"
   ]
  },
  {
   "cell_type": "code",
   "execution_count": 124,
   "id": "d699666c",
   "metadata": {},
   "outputs": [],
   "source": [
    "from sklearn.linear_model import LogisticRegression\n",
    "from sklearn.feature_extraction import DictVectorizer"
   ]
  },
  {
   "cell_type": "code",
   "execution_count": 125,
   "id": "5cadecef",
   "metadata": {},
   "outputs": [],
   "source": [
    "train_dict = X_train.to_dict(orient=\"records\")\n",
    "\n",
    "dv = DictVectorizer(sparse=False)\n",
    "X_train = dv.fit_transform(train_dict)"
   ]
  },
  {
   "cell_type": "code",
   "execution_count": 126,
   "id": "8a83b6c1",
   "metadata": {},
   "outputs": [],
   "source": [
    "val_dict = X_val.to_dict(orient=\"records\")\n",
    "X_val = dv.transform(val_dict)"
   ]
  },
  {
   "cell_type": "code",
   "execution_count": 127,
   "id": "b5f4bfab",
   "metadata": {},
   "outputs": [],
   "source": [
    "model = LogisticRegression(solver='liblinear', C=1.0, max_iter=1000, random_state=42)"
   ]
  },
  {
   "cell_type": "code",
   "execution_count": 128,
   "id": "485693d8",
   "metadata": {},
   "outputs": [],
   "source": [
    "model.fit(X_train, y_train)\n",
    "pred_val = model.predict(X_val)"
   ]
  },
  {
   "cell_type": "code",
   "execution_count": 129,
   "id": "781243fc",
   "metadata": {},
   "outputs": [],
   "source": [
    "from sklearn.metrics import accuracy_score"
   ]
  },
  {
   "cell_type": "code",
   "execution_count": 130,
   "id": "b5a05298",
   "metadata": {},
   "outputs": [
    {
     "data": {
      "text/plain": [
       "0.9009178370009953"
      ]
     },
     "execution_count": 130,
     "metadata": {},
     "output_type": "execute_result"
    }
   ],
   "source": [
    "acc_model = accuracy_score(y_val, pred_val)\n",
    "acc_model"
   ]
  },
  {
   "cell_type": "code",
   "execution_count": 153,
   "id": "201a77aa",
   "metadata": {},
   "outputs": [],
   "source": [
    "diff_lst = []\n",
    "lst = []\n",
    "\n",
    "def linear_model_accuracy(col_removed=None, C=1.0):\n",
    "    \n",
    "    df_copy = df.copy()\n",
    "    \n",
    "    if col_removed!=None:\n",
    "        del df_copy[col_removed]\n",
    "    \n",
    "    X_train, X_test, y_train, y_test = train_test_split(df_copy, y, test_size=0.2, random_state=42)\n",
    "    X_train, X_val, y_train, y_val = train_test_split(X_train, y_train, test_size=X_test.shape[0], random_state=42)\n",
    "    \n",
    "#     print(X_train.shape, X_val.shape, X_test.shape)\n",
    "    \n",
    "    train_dict = X_train.to_dict(orient=\"records\")\n",
    "\n",
    "    dv = DictVectorizer(sparse=False)\n",
    "    X_train = dv.fit_transform(train_dict)\n",
    "\n",
    "    val_dict = X_val.to_dict(orient=\"records\")\n",
    "    X_val = dv.transform(val_dict)\n",
    "\n",
    "    model = LogisticRegression(solver='liblinear', C=C, max_iter=1000, random_state=42)\n",
    "\n",
    "    model.fit(X_train, y_train)\n",
    "    pred_val = model.predict(X_val)\n",
    "\n",
    "    diff_lst.append((col_removed, abs(acc_model - accuracy_score(y_val, pred_val))))\n",
    "    lst.append((C, accuracy_score(y_val, pred_val)))"
   ]
  },
  {
   "cell_type": "code",
   "execution_count": 145,
   "id": "e701503e",
   "metadata": {},
   "outputs": [],
   "source": [
    "for col in df.columns.tolist():\n",
    "    \n",
    "    linear_model_accuracy(col_removed=col)"
   ]
  },
  {
   "cell_type": "code",
   "execution_count": 146,
   "id": "348cc318",
   "metadata": {},
   "outputs": [
    {
     "data": {
      "text/plain": [
       "[('age', 0.00022116554240847464),\n",
       " ('job', 0.00033174831361271195),\n",
       " ('marital', 0.00011058277120423732),\n",
       " ('education', 0.00011058277120423732),\n",
       " ('balance', 0.0),\n",
       " ('housing', 0.0008846621696340096),\n",
       " ('contact', 0.00033174831361271195),\n",
       " ('day', 0.0005529138560212976),\n",
       " ('month', 0.0008846621696340096),\n",
       " ('duration', 0.011611190976445918),\n",
       " ('campaign', 0.0018799071104722564),\n",
       " ('pdays', 0.00022116554240847464),\n",
       " ('previous', 0.00011058277120423732),\n",
       " ('poutcome', 0.007851376755501516)]"
      ]
     },
     "execution_count": 146,
     "metadata": {},
     "output_type": "execute_result"
    }
   ],
   "source": [
    "diff_lst"
   ]
  },
  {
   "cell_type": "code",
   "execution_count": 150,
   "id": "c7c0d5fb",
   "metadata": {},
   "outputs": [
    {
     "data": {
      "text/plain": [
       "('balance', 0.0)"
      ]
     },
     "execution_count": 150,
     "metadata": {},
     "output_type": "execute_result"
    }
   ],
   "source": [
    "diff_lst[np.argmin(np.array(diff_lst)[:,1])]"
   ]
  },
  {
   "cell_type": "code",
   "execution_count": 154,
   "id": "b8463a8d",
   "metadata": {},
   "outputs": [],
   "source": [
    "for c in [0.01, 0.1, 1, 10, 100]:\n",
    "    linear_model_accuracy(C=c)"
   ]
  },
  {
   "cell_type": "code",
   "execution_count": 155,
   "id": "d3d61975",
   "metadata": {},
   "outputs": [
    {
     "data": {
      "text/plain": [
       "[(0.01, 0.898595598805706),\n",
       " (0.1, 0.9006966714585868),\n",
       " (1, 0.9009178370009953),\n",
       " (10, 0.9016919163994249),\n",
       " (100, 0.9006966714585868)]"
      ]
     },
     "execution_count": 155,
     "metadata": {},
     "output_type": "execute_result"
    }
   ],
   "source": [
    "lst"
   ]
  },
  {
   "cell_type": "code",
   "execution_count": 158,
   "id": "d0136a5a",
   "metadata": {},
   "outputs": [
    {
     "data": {
      "text/plain": [
       "(10, 0.9016919163994249)"
      ]
     },
     "execution_count": 158,
     "metadata": {},
     "output_type": "execute_result"
    }
   ],
   "source": [
    "lst[np.argmax(np.array(lst)[:,1])]"
   ]
  }
 ],
 "metadata": {
  "kernelspec": {
   "display_name": "Python 3 (ipykernel)",
   "language": "python",
   "name": "python3"
  },
  "language_info": {
   "codemirror_mode": {
    "name": "ipython",
    "version": 3
   },
   "file_extension": ".py",
   "mimetype": "text/x-python",
   "name": "python",
   "nbconvert_exporter": "python",
   "pygments_lexer": "ipython3",
   "version": "3.10.9"
  }
 },
 "nbformat": 4,
 "nbformat_minor": 5
}
